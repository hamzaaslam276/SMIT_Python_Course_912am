{
 "cells": [
  {
   "cell_type": "markdown",
   "id": "21e7791c-bcab-4581-b211-e8904bc36ad4",
   "metadata": {},
   "source": [
    "### 3. Find and display the largest number of a list without using built-in function max(). Your program should ask the user to input values in list from keyboard. "
   ]
  },
  {
   "cell_type": "code",
   "execution_count": 1,
   "id": "17d15dcd-9a09-4c00-8e69-d65077c83ae0",
   "metadata": {},
   "outputs": [
    {
     "name": "stdin",
     "output_type": "stream",
     "text": [
      "Enter your numbers: 2 3 1 5 3\n"
     ]
    },
    {
     "name": "stdout",
     "output_type": "stream",
     "text": [
      "Largest number is: is 5\n"
     ]
    }
   ],
   "source": [
    "user_list = list(map(int,input(\"Enter your numbers:\").split()))\n",
    "\n",
    "largest_num = user_list[0]\n",
    "\n",
    "for num in user_list:\n",
    "    if num > largest_num:\n",
    "        largest_num = num\n",
    "\n",
    "print(f\"Largest number is: is {largest_num}\")"
   ]
  },
  {
   "cell_type": "markdown",
   "id": "958dd826-8655-4d63-961e-6aa4df54cfb0",
   "metadata": {},
   "source": [
    "### 1. Write a program that accepts a list from user and print the alternate element of list. "
   ]
  },
  {
   "cell_type": "code",
   "execution_count": 2,
   "id": "83bdee08-bdff-4ab5-b6a1-1e2276b60d98",
   "metadata": {},
   "outputs": [
    {
     "name": "stdin",
     "output_type": "stream",
     "text": [
      "Enter a list of elements:  mian hamza aslam\n"
     ]
    },
    {
     "name": "stdout",
     "output_type": "stream",
     "text": [
      "Alternate elements of the list are:\n",
      "mian\n",
      "aslam\n"
     ]
    }
   ],
   "source": [
    "user = input(\"Enter a list of elements: \")\n",
    "list = user.split()\n",
    "\n",
    "print(\"Alternate elements of the list are:\")\n",
    "for i in range(0, len(list), 2):\n",
    "    print(list[i])"
   ]
  },
  {
   "cell_type": "markdown",
   "id": "f3ba729b-2ebe-486b-b3bc-9797edbd6b07",
   "metadata": {},
   "source": [
    "### 2. Write a program that accepts a list from user. Your program should reverse the content of list and display it. Do not use reverse() method. "
   ]
  },
  {
   "cell_type": "code",
   "execution_count": 3,
   "id": "b26accfd-efb9-4af6-91e2-9983f38c5bc5",
   "metadata": {},
   "outputs": [
    {
     "name": "stdin",
     "output_type": "stream",
     "text": [
      "Enter a list of elements:  1 2 3 4 5\n"
     ]
    },
    {
     "name": "stdout",
     "output_type": "stream",
     "text": [
      "Reversed list is: \n",
      " ['5', '4', '3', '2', '1']\n"
     ]
    }
   ],
   "source": [
    "user = input(\"Enter a list of elements: \")\n",
    "list = user.split()\n",
    "\n",
    "reversed_list = list[::-1]\n",
    "print(f\"Reversed list is: \\n {reversed_list}\")"
   ]
  },
  {
   "cell_type": "markdown",
   "id": "e157a3f1-92d9-4756-9a01-8ddafdfc968f",
   "metadata": {},
   "source": [
    "### 4. Write a program that rotates the element of a list so that the element at the first index moves to the second index, the element in the second index moves to the third index, etc., and the element in the last index moves to the first index. "
   ]
  },
  {
   "cell_type": "code",
   "execution_count": 4,
   "id": "ceadc85d-f6fa-460f-93d6-a6b73617591c",
   "metadata": {},
   "outputs": [
    {
     "name": "stdin",
     "output_type": "stream",
     "text": [
      "Enter your multiple elements for rotating: 1 2 3 4 5\n"
     ]
    },
    {
     "name": "stdout",
     "output_type": "stream",
     "text": [
      "Rotated list is: ['5', '1', '2', '3', '4']\n"
     ]
    }
   ],
   "source": [
    "element = input(\"Enter your multiple elements for rotating:\").split()\n",
    "\n",
    "rotate = [element[-1]] + element[:-1]\n",
    "print(f\"Rotated list is: {rotate}\")"
   ]
  },
  {
   "cell_type": "markdown",
   "id": "63b12749-4234-4498-b360-63c863070d7f",
   "metadata": {},
   "source": [
    "### 5. Write a program that input a string and ask user to delete a given word from a string."
   ]
  },
  {
   "cell_type": "code",
   "execution_count": 5,
   "id": "af376ec6-ec4c-4bd8-81c3-4336fa7eeb96",
   "metadata": {},
   "outputs": [
    {
     "name": "stdin",
     "output_type": "stream",
     "text": [
      "Enter a words:  mian hamza aslam\n",
      "Enter the word to delete:  mian\n"
     ]
    },
    {
     "name": "stdout",
     "output_type": "stream",
     "text": [
      "After deleting the word: hamza aslam\n"
     ]
    }
   ],
   "source": [
    "words = input(\"Enter a words: \")\n",
    "delete_word = input(\"Enter the word to delete: \")\n",
    "words = words.split()\n",
    "modified_words = [word for word in words if word.lower() != delete_word.lower()]\n",
    "result_string = \" \".join(modified_words)\n",
    "print(f\"After deleting the word: {result_string}\")"
   ]
  },
  {
   "cell_type": "markdown",
   "id": "ab56eeff-87b7-4b7c-9f37-c7bfdcb89d7d",
   "metadata": {},
   "source": [
    "### 6. Write a program that reads a string from the user containing a date in the form mm/dd/yyyy. It should print the date in the form August 18, 2024."
   ]
  },
  {
   "cell_type": "code",
   "execution_count": 6,
   "id": "5faf6351-25ef-4e24-b200-94195c758678",
   "metadata": {},
   "outputs": [
    {
     "name": "stdin",
     "output_type": "stream",
     "text": [
      "Enter a date in the format mm/dd/yyyy:  08/18/2024\n"
     ]
    },
    {
     "name": "stdout",
     "output_type": "stream",
     "text": [
      "August 18, 2024\n"
     ]
    }
   ],
   "source": [
    "months = {\n",
    "    \"01\": \"January\", \"02\": \"February\", \"03\": \"March\", \"04\": \"April\",\n",
    "    \"05\": \"May\", \"06\": \"June\", \"07\": \"July\", \"08\": \"August\",\n",
    "    \"09\": \"September\", \"10\": \"October\", \"11\": \"November\", \"12\": \"December\"\n",
    "}\n",
    "\n",
    "date = input(\"Enter a date in the format mm/dd/yyyy: \")\n",
    "month, day, year =date.split(\"/\")\n",
    "day = str(int(day))\n",
    "month_name = months[month]\n",
    "print(f\"{month_name} {day}, {year}\")"
   ]
  },
  {
   "cell_type": "markdown",
   "id": "46762c71-daf7-4845-a2c6-c8bc388acfa4",
   "metadata": {},
   "source": [
    "### 7. Write a program with a function that accepts a string from keyboard and create a new string after converting character of each word capitalized. For instance, if the sentence is \"stop and smell the roses.\" the output should be \"Stop And Smell The Roses\""
   ]
  },
  {
   "cell_type": "code",
   "execution_count": 7,
   "id": "717867d5-4090-465f-a542-3d1c4cfc9a5c",
   "metadata": {},
   "outputs": [
    {
     "name": "stdin",
     "output_type": "stream",
     "text": [
      "Enter a sentence:  h a m z a\n"
     ]
    },
    {
     "name": "stdout",
     "output_type": "stream",
     "text": [
      "Capitalized sentence is:\n",
      "H A M Z A\n"
     ]
    }
   ],
   "source": [
    "sentence = input(\"Enter a sentence: \")\n",
    "words = sentence.split()\n",
    "capitalized_words = [word.capitalize() for word in words]\n",
    "capitalized_sentence = ' '.join(capitalized_words)\n",
    "print(\"Capitalized sentence is:\")\n",
    "print(capitalized_sentence)"
   ]
  },
  {
   "cell_type": "markdown",
   "id": "aa964b82-d227-4dd6-b8c3-f8c9b2c9efee",
   "metadata": {},
   "source": [
    "### 8. Find the sum of each row of matrix of size m x n. For example for the following matrix output will be like this :\n",
    "* 2  11  7  12\n",
    "* 5  2  9  15\n",
    "* 8  3  10  42\n",
    "* Sum of row 1 = 32 \n",
    "* Sum of row 2 = 31 \n",
    "* Sum of row 3 = 63"
   ]
  },
  {
   "cell_type": "code",
   "execution_count": 8,
   "id": "a044fad7-b7b9-4aef-85d5-e2143faeb95a",
   "metadata": {},
   "outputs": [
    {
     "name": "stdout",
     "output_type": "stream",
     "text": [
      "[2, 11, 7, 12]\n",
      "[5, 2, 9, 15]\n",
      "[8, 3, 10, 42]\n",
      "Sum of row 1 = 32\n",
      "Sum of row 2 = 31\n",
      "Sum of row 3 = 63\n"
     ]
    }
   ],
   "source": [
    "def sum_row(matrix):\n",
    "    for i, row in enumerate(matrix):\n",
    "        row_sum = sum(row)\n",
    "        print(f\"Sum of row {i + 1} = {row_sum}\")\n",
    "\n",
    "if __name__ == '__main__':\n",
    "    matrix = [\n",
    "        [2, 11, 7, 12],\n",
    "        [5, 2, 9, 15],\n",
    "        [8, 3, 10, 42]\n",
    "    ]\n",
    "    for row in matrix:\n",
    "        print(row)\n",
    "    sum_row(matrix)"
   ]
  },
  {
   "cell_type": "markdown",
   "id": "44bf6aa5-8b49-478e-9c8e-047661efa19a",
   "metadata": {},
   "source": [
    "### 9. Write a program to add two matrices of size n x m."
   ]
  },
  {
   "cell_type": "code",
   "execution_count": 9,
   "id": "bea7fc24-ff76-414b-b13b-4955f0796f19",
   "metadata": {},
   "outputs": [
    {
     "name": "stdout",
     "output_type": "stream",
     "text": [
      "Result is :  \n",
      "[10, 10, 10]\n",
      "[10, 10, 10]\n",
      "[10, 10, 10]\n"
     ]
    }
   ],
   "source": [
    "def add_matrices(matrix1, matrix2):\n",
    "    result = []\n",
    "    for i in range(len(matrix1)):\n",
    "        row = []\n",
    "        for j in range(len(matrix1[0])):\n",
    "            row.append(matrix1[i][j] + matrix2[i][j])\n",
    "        result.append(row)\n",
    "    return result\n",
    "if __name__ == '__main__':\n",
    "    #  two matrices of size n x m\n",
    "    matrix1 = [\n",
    "        [1, 2, 3],\n",
    "        [4, 5, 6],\n",
    "        [7, 8, 9]\n",
    "    ]\n",
    "    matrix2 = [\n",
    "        [9, 8, 7],\n",
    "        [6, 5, 4],\n",
    "        [3, 2, 1]\n",
    "    ]\n",
    "    result_matrix = add_matrices(matrix1, matrix2)\n",
    "    print(\"Result is :  \")\n",
    "    for row in result_matrix:\n",
    "        print(row)"
   ]
  },
  {
   "cell_type": "markdown",
   "id": "cd338848-8472-4426-8774-dac6827765c5",
   "metadata": {},
   "source": [
    "### 10. Write a program to multiply two matrices."
   ]
  },
  {
   "cell_type": "code",
   "execution_count": 10,
   "id": "32149b04-0d9c-4875-82cb-1e7b1d9d8bbd",
   "metadata": {},
   "outputs": [
    {
     "name": "stdin",
     "output_type": "stream",
     "text": [
      "Enter the number of rows in the first matrix:  3\n",
      "Enter the number of columns in the first matrix:  3\n",
      "Enter the number of rows in the second matrix:  3\n",
      "Enter the number of columns in the second matrix:  3\n"
     ]
    },
    {
     "name": "stdout",
     "output_type": "stream",
     "text": [
      "Enter the elements of the first matrix:\n"
     ]
    },
    {
     "name": "stdin",
     "output_type": "stream",
     "text": [
      " 1 1 1 \n",
      " 2 2 2\n",
      " 3 3 3\n"
     ]
    },
    {
     "name": "stdout",
     "output_type": "stream",
     "text": [
      "Enter the elements of the second matrix:\n"
     ]
    },
    {
     "name": "stdin",
     "output_type": "stream",
     "text": [
      " 4 4 4\n",
      " 5 5 5\n",
      " 6 6 6\n"
     ]
    },
    {
     "name": "stdout",
     "output_type": "stream",
     "text": [
      "Result:\n",
      "[15, 15, 15]\n",
      "[30, 30, 30]\n",
      "[45, 45, 45]\n"
     ]
    }
   ],
   "source": [
    "m1_rows = int(input(\"Enter the number of rows in the first matrix: \"))\n",
    "m1_cols = int(input(\"Enter the number of columns in the first matrix: \"))\n",
    "m2_rows = int(input(\"Enter the number of rows in the second matrix: \"))\n",
    "m2_cols = int(input(\"Enter the number of columns in the second matrix: \"))\n",
    "\n",
    "if m1_cols != m2_rows:\n",
    "    print(\"Matrices cannot be multiplied.\")\n",
    "    \n",
    "matrix1 = []\n",
    "print(\"Enter the elements of the first matrix:\")\n",
    "for i in range(m1_rows):\n",
    "    row = [int(x) for x in input().split()]\n",
    "    matrix1.append(row)\n",
    "\n",
    "matrix2 = []\n",
    "print(\"Enter the elements of the second matrix:\")\n",
    "for i in range(m2_rows):\n",
    "    row = [int(x) for x in input().split()]\n",
    "    matrix2.append(row)\n",
    "\n",
    "    \n",
    "result = [[0 for _ in range(m2_cols)] for _ in range(m1_rows)]\n",
    "for i in range(m1_rows):\n",
    "    for j in range(m2_cols):\n",
    "        for k in range(m1_cols):\n",
    "            result[i][j] += matrix1[i][k] * matrix2[k][j]\n",
    "print(\"Result:\")\n",
    "for row in result:\n",
    "    print(row)"
   ]
  },
  {
   "cell_type": "code",
   "execution_count": null,
   "id": "fe6be5dc-f8b5-4697-84bf-7d01953de507",
   "metadata": {},
   "outputs": [],
   "source": []
  }
 ],
 "metadata": {
  "kernelspec": {
   "display_name": "Python 3 (ipykernel)",
   "language": "python",
   "name": "python3"
  },
  "language_info": {
   "codemirror_mode": {
    "name": "ipython",
    "version": 3
   },
   "file_extension": ".py",
   "mimetype": "text/x-python",
   "name": "python",
   "nbconvert_exporter": "python",
   "pygments_lexer": "ipython3",
   "version": "3.11.7"
  }
 },
 "nbformat": 4,
 "nbformat_minor": 5
}
