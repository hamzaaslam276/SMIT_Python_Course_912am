{
 "cells": [
  {
   "cell_type": "markdown",
   "id": "ad733687-88c5-4f5c-a2fb-c260ee1b712b",
   "metadata": {},
   "source": [
    "### 1. Write a program that accepts a list from user and print the alternate element of list. "
   ]
  },
  {
   "cell_type": "code",
   "execution_count": 10,
   "id": "7e7dd692-64a3-4958-a6ed-61b7c5214866",
   "metadata": {},
   "outputs": [
    {
     "name": "stdin",
     "output_type": "stream",
     "text": [
      "Enter a list of elements:  hamza aslam\n"
     ]
    },
    {
     "name": "stdout",
     "output_type": "stream",
     "text": [
      "Alternate elements of the list are:\n",
      "hamza\n"
     ]
    }
   ],
   "source": [
    "user = input(\"Enter a list of elements: \")\n",
    "list = user.split()\n",
    "\n",
    "print(\"Alternate elements of the list are:\")\n",
    "for i in range(0, len(list), 2):\n",
    "    print(list[i])"
   ]
  },
  {
   "cell_type": "markdown",
   "id": "441234ee-a3a6-44fe-ac66-9565eddbf14c",
   "metadata": {},
   "source": [
    "### 2. Write a program that accepts a list from user. Your program should reverse the content of list and display it. Do not use reverse() method. "
   ]
  },
  {
   "cell_type": "code",
   "execution_count": 11,
   "id": "aa888243-36a3-42b9-a660-3f25451d809b",
   "metadata": {},
   "outputs": [
    {
     "name": "stdin",
     "output_type": "stream",
     "text": [
      "Enter a list of elements:  Hamza Aslam\n"
     ]
    },
    {
     "name": "stdout",
     "output_type": "stream",
     "text": [
      "Reversed list is: \n",
      " ['Aslam', 'Hamza']\n"
     ]
    }
   ],
   "source": [
    "user = input(\"Enter a list of elements: \")\n",
    "list = user.split()\n",
    "\n",
    "reversed_list = list[::-1]\n",
    "print(f\"Reversed list is: \\n {reversed_list}\")"
   ]
  },
  {
   "cell_type": "markdown",
   "id": "ec555f3c-0316-4f7d-87ac-bad604dc721b",
   "metadata": {},
   "source": [
    "### 3. Find and display the largest number of a list without using built-in function max(). Your program should ask the user to input values in list from keyboard. "
   ]
  },
  {
   "cell_type": "code",
   "execution_count": null,
   "id": "6c25f601-bd81-468e-af4a-f0801f95e6d6",
   "metadata": {},
   "outputs": [],
   "source": []
  },
  {
   "cell_type": "markdown",
   "id": "10a21c04-dd77-493e-9d08-a06f23b292b2",
   "metadata": {},
   "source": [
    "### 4. Write a program that rotates the element of a list so that the element at the first index moves to the second index, the element in the second index moves to the third index, etc., and the element in the last index moves to the first index. "
   ]
  },
  {
   "cell_type": "code",
   "execution_count": null,
   "id": "b6d44f90-0eb8-4502-baee-0a60dab89deb",
   "metadata": {},
   "outputs": [],
   "source": []
  }
 ],
 "metadata": {
  "kernelspec": {
   "display_name": "Python 3 (ipykernel)",
   "language": "python",
   "name": "python3"
  },
  "language_info": {
   "codemirror_mode": {
    "name": "ipython",
    "version": 3
   },
   "file_extension": ".py",
   "mimetype": "text/x-python",
   "name": "python",
   "nbconvert_exporter": "python",
   "pygments_lexer": "ipython3",
   "version": "3.11.7"
  }
 },
 "nbformat": 4,
 "nbformat_minor": 5
}
