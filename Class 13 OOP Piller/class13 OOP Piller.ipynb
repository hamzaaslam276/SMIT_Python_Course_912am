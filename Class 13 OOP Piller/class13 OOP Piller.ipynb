{
 "cells": [
  {
   "cell_type": "markdown",
   "id": "f31a226c-4af2-49fd-9add-8f988714d394",
   "metadata": {},
   "source": [
    "1. Static Methods\n",
    "2. Simple Inheritance\n",
    "3. Only Method Interitance\n",
    "4. Single Class Inheritance ( Attributes + Methods)\n",
    "5. Multi Class Inheritance "
   ]
  },
  {
   "cell_type": "code",
   "execution_count": 1,
   "id": "03e27bc9-081b-48ed-b08e-41bd89dd234c",
   "metadata": {},
   "outputs": [
    {
     "name": "stdout",
     "output_type": "stream",
     "text": [
      "object height 6 Feet\n",
      "object eye color blue\n",
      "Monther Speaking function: Pakistan zinda bad\n"
     ]
    }
   ],
   "source": [
    "class Mother:\n",
    "    def __init__(self,name):\n",
    "        self.name = name\n",
    "        self.eye_color = \"blue\"\n",
    "    \n",
    "    def speaking(self, words):\n",
    "        return f\"Monther Speaking function: {words}\"\n",
    "\n",
    "class Father:\n",
    "    def __init__(self, name):\n",
    "        self.name = name\n",
    "        self.height = \"6 Feet\"\n",
    "\n",
    "    def speaking(self, words):\n",
    "        return f\"Father Speaking function: {words}\"\n",
    "\n",
    "class Child(Mother, Father):\n",
    "    def __init__(self, mother_name, father_name , child_name):\n",
    "        Mother.__init__(self, mother_name)\n",
    "        Father.__init__(self, father_name)\n",
    "        self.child_name = child_name\n",
    "\n",
    "hamza = Child(\"Khalida Parveen\", \"Muhammad Aslam\",\"Hamza Aslam\")\n",
    "\n",
    "print(f\"object height {hamza.height}\")\n",
    "print(f\"object eye color {hamza.eye_color}\")\n",
    "print(hamza.speaking(\"Pakistan zinda bad\"))"
   ]
  },
  {
   "cell_type": "code",
   "execution_count": 2,
   "id": "06a2909c-09ef-4fb7-acc7-9599efdcf229",
   "metadata": {},
   "outputs": [
    {
     "ename": "TypeError",
     "evalue": "unsupported operand type(s) for >>: 'type' and 'type'",
     "output_type": "error",
     "traceback": [
      "\u001b[1;31m---------------------------------------------------------------------------\u001b[0m",
      "\u001b[1;31mTypeError\u001b[0m                                 Traceback (most recent call last)",
      "Cell \u001b[1;32mIn[2], line 1\u001b[0m\n\u001b[1;32m----> 1\u001b[0m Child \u001b[38;5;241m>>\u001b[39m Mother \u001b[38;5;241m>>\u001b[39m Father\n",
      "\u001b[1;31mTypeError\u001b[0m: unsupported operand type(s) for >>: 'type' and 'type'"
     ]
    }
   ],
   "source": [
    "Child >> Mother >> Father"
   ]
  },
  {
   "cell_type": "markdown",
   "id": "92271016-7a5b-495c-b160-7cd2850c5d48",
   "metadata": {},
   "source": [
    " ABSRACTION\n",
    "`The concept of hiding the complex reality while exposing only the necessary parts. It helps to reduce programming complexity and effort.`\r\n",
    "- \r\n",
    "A class that consists of one or more abstract method is called the abstract clas.- \r\n",
    "\r\n",
    "Abstract methods do not contain their implementato- n.\r\n",
    "\r\n",
    "Abstract class can be inherited by the subclass and abstract method gets its definition in the subl- ass.\r\n",
    "\r\n",
    "Abstraction classes are meant to be the blueprint of the othe - class.\r\n",
    "\r\n",
    "An abstract class can be useful when we are designing large u- nctions.\r\n",
    "\r\n",
    "An abstract class is also helpful to provide the standard interface for different implementations of c`omponents.\r\n",
    "\r\n",
    "NOTE: Python provides the abc module to use the abstraction in the `ython program.\r\n",
    "\r\n",
    "Let's see the fllowing syntax.`"
   ]
  },
  {
   "cell_type": "code",
   "execution_count": 3,
   "id": "dcd364f3-6727-4b65-8c8e-5e2c03f11a47",
   "metadata": {},
   "outputs": [],
   "source": [
    "class shapes():\n",
    "    \n",
    "    #abstract method\n",
    "    def sides(self):\n",
    "        pass\n",
    "class triangle(shapes):\n",
    "\n",
    "    def sides(self):\n",
    "        print(\"Triangle has 3 sides.\")      "
   ]
  },
  {
   "cell_type": "code",
   "execution_count": 4,
   "id": "553c28f5-3122-429c-8ac7-f96709d4862e",
   "metadata": {},
   "outputs": [
    {
     "name": "stdout",
     "output_type": "stream",
     "text": [
      "Triangle has 3 sides.\n"
     ]
    }
   ],
   "source": [
    "Triangle = triangle()\n",
    "Triangle.sides()"
   ]
  },
  {
   "cell_type": "markdown",
   "id": "c4a5d231-b5cb-4619-86c5-cc60eed66663",
   "metadata": {},
   "source": [
    "### OVERLOADING\n",
    "\n",
    "- let your method know how you'll act in differnt scenerios"
   ]
  },
  {
   "cell_type": "code",
   "execution_count": 5,
   "id": "11dbbd98-28bb-451c-b000-3697341b78a5",
   "metadata": {},
   "outputs": [
    {
     "name": "stdout",
     "output_type": "stream",
     "text": [
      "3\n",
      "10.0\n",
      "Hello, world!\n"
     ]
    }
   ],
   "source": [
    "from typing import overload\n",
    "\n",
    "class Adder():\n",
    "\n",
    "    @overload\n",
    "    def add(self, x:int , y:int) -> int :\n",
    "        ...\n",
    "\n",
    "    @overload \n",
    "    def add(self, x:float, y:float) -> float :\n",
    "        ...\n",
    "\n",
    "    @overload\n",
    "    def add(self, x:str, y:str) -> str:\n",
    "        ...\n",
    "\n",
    "    def add(self, x, y):\n",
    "        if isinstance(x, int) and isinstance(y, int):\n",
    "            return (x+y)\n",
    "        elif isinstance(x, float) and isinstance(y, float):\n",
    "            return (x+y)\n",
    "        elif isinstance(x, str) and isinstance(y, str):\n",
    "            return (x+y)\n",
    "        else:\n",
    "            raise TypeError(\"Type Error...!!!\")\n",
    "\n",
    "# Usage examples\n",
    "adder = Adder()\n",
    "result1 = adder.add(1, 2)  # Should return 3\n",
    "result2 = adder.add(3.5, 6.5)  # Should return 4.0\n",
    "result3 = adder.add(\"Hello, \", \"world!\")  # Should return \"Hello, world!\"\n",
    "\n",
    "# Overridding & polymorphism\n",
    "print(result1)\n",
    "print(result2)\n",
    "print(result3)"
   ]
  },
  {
   "cell_type": "markdown",
   "id": "5f888748-4e54-4009-af2d-7e0e87ef49d5",
   "metadata": {},
   "source": [
    "### Overriding \n",
    "getting the last updated methods/attribute"
   ]
  },
  {
   "cell_type": "code",
   "execution_count": 6,
   "id": "1fc9739d-a801-4390-b1b7-ef2cef6042a1",
   "metadata": {},
   "outputs": [],
   "source": [
    "class Animal():\n",
    "    def eating(self,food): #same method \n",
    "        print(f\"Animal is eating {food}\")\n",
    "\n",
    "class Bird(Animal):\n",
    "    def eating(self, food):\n",
    "        print(f\"Bird is eating {food}\")"
   ]
  },
  {
   "cell_type": "code",
   "execution_count": 7,
   "id": "51e53fa5-167d-484d-8103-1874b813fdc9",
   "metadata": {},
   "outputs": [
    {
     "name": "stdout",
     "output_type": "stream",
     "text": [
      "Bird is eating aalu\n"
     ]
    }
   ],
   "source": [
    "bird = Bird() # child -> parents\n",
    "bird.eating(\"aalu\")"
   ]
  },
  {
   "cell_type": "markdown",
   "id": "62348b07-1f7a-4738-b3ee-79644495a8db",
   "metadata": {},
   "source": [
    "### PLOYMORPHISM\n",
    "The ability of different classes to respond to the same message (method call) in different ways. This allows for code to work with objects of various classes as if they were objects of a common superclass."
   ]
  },
  {
   "cell_type": "markdown",
   "id": "444c738e-a83a-44ac-bdb2-a551fc3a91a5",
   "metadata": {},
   "source": [
    "### Encapsulation"
   ]
  },
  {
   "cell_type": "code",
   "execution_count": 8,
   "id": "569b22fe-9a32-49f0-8a2c-5128e2a3f1c5",
   "metadata": {},
   "outputs": [],
   "source": [
    "class saylani():\n",
    "    def __init__(self):\n",
    "        self.helpline = \"786\" #public\n",
    "        self._batch = \"Python\" # protected\n",
    "        self.__result = \"70%\" #private"
   ]
  },
  {
   "cell_type": "code",
   "execution_count": 9,
   "id": "dffaa7fb-ed9b-44d9-9a1d-1c44984ee305",
   "metadata": {},
   "outputs": [],
   "source": [
    "s = saylani()"
   ]
  },
  {
   "cell_type": "code",
   "execution_count": 10,
   "id": "4cc63456-5653-43a4-b9bb-c0bee274158e",
   "metadata": {},
   "outputs": [
    {
     "data": {
      "text/plain": [
       "'786'"
      ]
     },
     "execution_count": 10,
     "metadata": {},
     "output_type": "execute_result"
    }
   ],
   "source": [
    "s.helpline # public"
   ]
  },
  {
   "cell_type": "code",
   "execution_count": 11,
   "id": "402cef25-c8b7-47a8-8a98-1d9383df0b2b",
   "metadata": {},
   "outputs": [
    {
     "data": {
      "text/plain": [
       "'123'"
      ]
     },
     "execution_count": 11,
     "metadata": {},
     "output_type": "execute_result"
    }
   ],
   "source": [
    "s.helpline = '123' # trying to update\n",
    "s.helpline"
   ]
  },
  {
   "cell_type": "code",
   "execution_count": 12,
   "id": "c0aae59d-01db-4652-84aa-b99107fe4ed5",
   "metadata": {},
   "outputs": [
    {
     "data": {
      "text/plain": [
       "'Python'"
      ]
     },
     "execution_count": 12,
     "metadata": {},
     "output_type": "execute_result"
    }
   ],
   "source": [
    "s._batch #protect"
   ]
  },
  {
   "cell_type": "code",
   "execution_count": 13,
   "id": "f9bdc87f-9434-4a45-b8d3-9f8042f7fe65",
   "metadata": {},
   "outputs": [
    {
     "data": {
      "text/plain": [
       "'123'"
      ]
     },
     "execution_count": 13,
     "metadata": {},
     "output_type": "execute_result"
    }
   ],
   "source": [
    "s._batch = '123' # trying to update\n",
    "s._batch"
   ]
  },
  {
   "cell_type": "code",
   "execution_count": 14,
   "id": "007a3626-1f7a-4a68-a5bc-8abac00ac39f",
   "metadata": {},
   "outputs": [
    {
     "ename": "AttributeError",
     "evalue": "'saylani' object has no attribute '__result'",
     "output_type": "error",
     "traceback": [
      "\u001b[1;31m---------------------------------------------------------------------------\u001b[0m",
      "\u001b[1;31mAttributeError\u001b[0m                            Traceback (most recent call last)",
      "Cell \u001b[1;32mIn[14], line 1\u001b[0m\n\u001b[1;32m----> 1\u001b[0m s\u001b[38;5;241m.\u001b[39m__result\n",
      "\u001b[1;31mAttributeError\u001b[0m: 'saylani' object has no attribute '__result'"
     ]
    }
   ],
   "source": [
    "s.__result #private"
   ]
  },
  {
   "cell_type": "code",
   "execution_count": 15,
   "id": "9103c5d1-8f10-4483-9716-59d768257532",
   "metadata": {},
   "outputs": [
    {
     "data": {
      "text/plain": [
       "'100%'"
      ]
     },
     "execution_count": 15,
     "metadata": {},
     "output_type": "execute_result"
    }
   ],
   "source": [
    "s._saylani__result = \"100%\"\n",
    "s._saylani__result"
   ]
  },
  {
   "cell_type": "markdown",
   "id": "baa29065-7fb0-4b48-ba5f-f4f01474937a",
   "metadata": {},
   "source": [
    "TASK:\n",
    "- use encapsulation for class i:e., `StudentLogin():`\n",
    "- initialize two `static` but _private_ attributes i:e., `__user_name`, `__password`\n",
    "- create  one _private_ methods i:e., name `__dbconectivity()` that will validate you username & password. if both are valid then should print *\"valid user\"* otherwise *\"not valid\"*\n",
    "- create one public methods i:e., update password & it should update your private password"
   ]
  },
  {
   "cell_type": "code",
   "execution_count": 16,
   "id": "a046b50a-afb0-4191-99ed-bf8ef8004c51",
   "metadata": {},
   "outputs": [],
   "source": [
    "\n",
    "class Studentlogin():\n",
    "    \n",
    "    def __init__(self):\n",
    "        self.__user_name = \"Hamza Aslam\"\n",
    "        self.__password = \"Hamza@123\"\n",
    "    def __dbconectivity(self, user, password):\n",
    "        if self.__user_name == user and self.__password == password:\n",
    "            print(\"Valid\")\n",
    "        else: \n",
    "            print(\"Invalid\")\n",
    "    def update_password(self):\n",
    "        update_pass = input(\"Enter the new password : \")\n",
    "        self._Studentlogin__password = update_pass\n",
    "        return f\"Your updated password{self._Studentlogin__password}\"\n",
    "         \n",
    "    def login(self, expect_name, expect_pass):\n",
    "        return self.__dbconectivity(expect_name, expect_pass)"
   ]
  },
  {
   "cell_type": "code",
   "execution_count": 17,
   "id": "872c7331-3fa7-4ea7-a8eb-1a3605c02129",
   "metadata": {},
   "outputs": [
    {
     "name": "stdin",
     "output_type": "stream",
     "text": [
      "User name:  Hamza Aslam\n",
      "Password :  Hamza@123\n"
     ]
    },
    {
     "name": "stdout",
     "output_type": "stream",
     "text": [
      "Valid\n"
     ]
    }
   ],
   "source": [
    "expect_name = input(\"User name: \")\n",
    "expect_pass = input(\"Password : \")\n",
    "user = Studentlogin()\n",
    "user.login(expect_name, expect_pass)\n"
   ]
  },
  {
   "cell_type": "code",
   "execution_count": null,
   "id": "8fa69c78-811a-4588-9f00-c8225f79c682",
   "metadata": {},
   "outputs": [],
   "source": []
  }
 ],
 "metadata": {
  "kernelspec": {
   "display_name": "Python 3 (ipykernel)",
   "language": "python",
   "name": "python3"
  },
  "language_info": {
   "codemirror_mode": {
    "name": "ipython",
    "version": 3
   },
   "file_extension": ".py",
   "mimetype": "text/x-python",
   "name": "python",
   "nbconvert_exporter": "python",
   "pygments_lexer": "ipython3",
   "version": "3.11.7"
  },
  "widgets": {
   "application/vnd.jupyter.widget-state+json": {
    "state": {},
    "version_major": 2,
    "version_minor": 0
   }
  }
 },
 "nbformat": 4,
 "nbformat_minor": 5
}
