{
 "cells": [
  {
   "cell_type": "markdown",
   "metadata": {
    "id": "_fPUq5b6utko"
   },
   "source": [
    "# **Exception**\n",
    "\n",
    "An exception is an event that disrupts the normal flow of a program’s execution. When an error occurs, Python generates an exception that can be handled to prevent the program from crashing.\n",
    "\n",
    "\n"
   ]
  },
  {
   "cell_type": "markdown",
   "metadata": {
    "id": "fneP6SktuUih"
   },
   "source": [
    "\n",
    "# **Common Exceptions in Python**\n",
    "\n",
    "1.   TypeError: Raised when an operation or function is applied to an object of inappropriate type.\n",
    "2.   ValueError: Raised when a function receives an argument of the right type but an inappropriate value.\n",
    "3.  IndexError: Raised when attempting to access an element from a list or tuple with an invalid index.\n",
    "4. KeyError: Raised when attempting to access a dictionary with a key that does not exist.\n",
    "5. ZeroDivisionError: Raised when a division by zero is attempted.\n",
    "6. FileNotFoundError: Raised when trying to open a file that does not exist.\n",
    "\n"
   ]
  },
  {
   "cell_type": "code",
   "execution_count": 1,
   "metadata": {
    "colab": {
     "base_uri": "https://localhost:8080/"
    },
    "id": "oKli7Im4tsCJ",
    "outputId": "b01edd69-e407-4d1a-e4dc-7fcf298c0dc4"
   },
   "outputs": [
    {
     "name": "stdin",
     "output_type": "stream",
     "text": [
      " 4\n"
     ]
    },
    {
     "name": "stdout",
     "output_type": "stream",
     "text": [
      "trying\n",
      "Error Occured\n"
     ]
    }
   ],
   "source": [
    "a = int(input())\n",
    "try:\n",
    "  print(\"trying\")\n",
    "  print(a + \"Hello\")\n",
    "  print(\"executing\")\n",
    "except:\n",
    "  print(\"Error Occured\")"
   ]
  },
  {
   "cell_type": "code",
   "execution_count": 2,
   "metadata": {
    "colab": {
     "base_uri": "https://localhost:8080/"
    },
    "id": "OFaXLA0OxibJ",
    "outputId": "4c340838-2c74-44cd-b780-ff35f6dbce8c"
   },
   "outputs": [
    {
     "name": "stdin",
     "output_type": "stream",
     "text": [
      " 43\n"
     ]
    },
    {
     "name": "stdout",
     "output_type": "stream",
     "text": [
      "trying\n",
      "unsupported operand type(s) for +: 'int' and 'str'\n",
      "Error Occured\n"
     ]
    }
   ],
   "source": [
    "a = int(input())\n",
    "try:\n",
    "  print(\"trying\")\n",
    "  print(a + \"Hello\")\n",
    "  print(\"executing\")\n",
    "except Exception as e:\n",
    "  print(e)\n",
    "  print(\"Error Occured\")"
   ]
  },
  {
   "cell_type": "code",
   "execution_count": 3,
   "metadata": {
    "colab": {
     "base_uri": "https://localhost:8080/"
    },
    "id": "NIs7mPyvv5zJ",
    "outputId": "e85aafa5-1baf-4ab7-f111-18b02646bbcf"
   },
   "outputs": [
    {
     "name": "stdout",
     "output_type": "stream",
     "text": [
      "can only concatenate str (not \"int\") to str\n"
     ]
    }
   ],
   "source": [
    "# Attempting to concatenate a string and an integer\n",
    "try:\n",
    "    result = \"The answer is: \" + 42\n",
    "except Exception as e:\n",
    "  print(e)"
   ]
  },
  {
   "cell_type": "code",
   "execution_count": 4,
   "metadata": {
    "colab": {
     "base_uri": "https://localhost:8080/"
    },
    "id": "MPJIn19TxLog",
    "outputId": "50ba9c46-f0d9-489a-9b61-847e51b03b6a"
   },
   "outputs": [
    {
     "name": "stdout",
     "output_type": "stream",
     "text": [
      "TypeError: can only concatenate str (not \"int\") to str\n"
     ]
    }
   ],
   "source": [
    "try:\n",
    "    result = \"The answer is: \" + 42\n",
    "except TypeError as e:\n",
    "    print(f\"TypeError: {e}\")\n"
   ]
  },
  {
   "cell_type": "markdown",
   "metadata": {
    "id": "3aKkQShzyhLw"
   },
   "source": [
    "Final Block\n"
   ]
  },
  {
   "cell_type": "code",
   "execution_count": 5,
   "metadata": {
    "colab": {
     "base_uri": "https://localhost:8080/"
    },
    "id": "6ci2Nrr4yUqv",
    "outputId": "0fe3bddb-3020-4677-b29d-fb0b8226f091"
   },
   "outputs": [
    {
     "name": "stdout",
     "output_type": "stream",
     "text": [
      "The answer is: 42\n",
      "Code Executed\n"
     ]
    }
   ],
   "source": [
    "try:\n",
    "    result = \"The answer is: \" + '42'\n",
    "    print(result)\n",
    "except TypeError as e:\n",
    "    print(f\"TypeError: {e}\")\n",
    "finally:\n",
    "  print(\"Code Executed\")\n",
    "\n",
    "# Hamesha run ho ga final block"
   ]
  },
  {
   "cell_type": "code",
   "execution_count": 6,
   "metadata": {
    "colab": {
     "base_uri": "https://localhost:8080/"
    },
    "id": "HV01E84Ky3QC",
    "outputId": "d2b80545-e1c8-4094-a5f7-8a99cf5192e6"
   },
   "outputs": [
    {
     "name": "stdout",
     "output_type": "stream",
     "text": [
      "ValueError: invalid literal for int() with base 10: 'abc'\n"
     ]
    }
   ],
   "source": [
    "# Converting a string to an integer\n",
    "try:\n",
    "    number = int(\"abc\")\n",
    "except ValueError as e:\n",
    "    print(f\"ValueError: {e}\")"
   ]
  },
  {
   "cell_type": "code",
   "execution_count": 7,
   "metadata": {
    "id": "m5CvcwYhzwr5"
   },
   "outputs": [
    {
     "name": "stdout",
     "output_type": "stream",
     "text": [
      "IndexError: invalid literal for int() with base 10: 'abc'\n"
     ]
    }
   ],
   "source": [
    "# Accessing an element outside the range of a list\n",
    "try:\n",
    "    number = int(\"abc\")\n",
    "except Exception as e:\n",
    "    print(f\"IndexError: {e}\")\n"
   ]
  },
  {
   "cell_type": "code",
   "execution_count": 8,
   "metadata": {
    "colab": {
     "base_uri": "https://localhost:8080/"
    },
    "id": "7NBX0u25zx84",
    "outputId": "37917f43-0721-4fa9-e174-e3ad40d8f5b4"
   },
   "outputs": [
    {
     "name": "stdout",
     "output_type": "stream",
     "text": [
      "Hamza\n",
      "KeyError: 'address'\n"
     ]
    }
   ],
   "source": [
    "# Accessing a non-existent key in a dictionary\n",
    "try:\n",
    "    my_dict = {'name': 'Hamza', 'age': 30}\n",
    "    print(my_dict['name'])\n",
    "    value = my_dict['address']\n",
    "except KeyError as e:\n",
    "    print(f\"KeyError: {e}\")\n"
   ]
  },
  {
   "cell_type": "code",
   "execution_count": 9,
   "metadata": {
    "colab": {
     "base_uri": "https://localhost:8080/"
    },
    "id": "T5WJUrbIzzKR",
    "outputId": "e654209f-188b-41f8-fe2b-92ddc7ae90e6"
   },
   "outputs": [
    {
     "name": "stdout",
     "output_type": "stream",
     "text": [
      "NameError: name 'my_variable' is not defined\n"
     ]
    }
   ],
   "source": [
    "# Trying to use a variable that hasn't been defined\n",
    "try:\n",
    "    print(my_variable)\n",
    "except NameError as e:\n",
    "    print(f\"NameError: {e}\")\n"
   ]
  },
  {
   "cell_type": "code",
   "execution_count": 10,
   "metadata": {
    "colab": {
     "base_uri": "https://localhost:8080/"
    },
    "id": "9_BnyzGrz0cQ",
    "outputId": "c80f839b-c4f4-4b18-c4e6-187ef8673528"
   },
   "outputs": [
    {
     "name": "stdout",
     "output_type": "stream",
     "text": [
      "Cannot divide by zero!\n"
     ]
    }
   ],
   "source": [
    "# Else Block\n",
    "try:\n",
    "    result = 10 / 0\n",
    "except ZeroDivisionError:\n",
    "    print(\"Cannot divide by zero!\")\n",
    "else:\n",
    "    print(\"Division successful:\", result)\n"
   ]
  },
  {
   "cell_type": "markdown",
   "metadata": {
    "id": "HAIbnFfC1tf5"
   },
   "source": [
    "Scenario 1: User Input Validation\n",
    "Context: You’re developing a program that asks users to input a number and then performs a calculation using that number. (Divide)\n",
    "\n",
    "Scenario: The user might input something that’s not a number, causing a ValueError.\n",
    "\n"
   ]
  },
  {
   "cell_type": "code",
   "execution_count": 11,
   "metadata": {
    "colab": {
     "base_uri": "https://localhost:8080/"
    },
    "id": "HhuM7XHs4OLR",
    "outputId": "cde271ea-0078-4763-8337-e729a1011f57"
   },
   "outputs": [
    {
     "name": "stdin",
     "output_type": "stream",
     "text": [
      "Enter a number =  7\n",
      "Enter a number =  8\n"
     ]
    },
    {
     "name": "stdout",
     "output_type": "stream",
     "text": [
      "Result is 0.875\n"
     ]
    }
   ],
   "source": [
    "try :\n",
    "  a = int(input(\"Enter a number = \"))\n",
    "  b = int(input(\"Enter a number = \"))\n",
    "  result = a / b\n",
    "except ValueError as e :\n",
    "  print(f\"ValueError : {e}\")\n",
    "else:\n",
    "  print(f\"Result is {result}\")"
   ]
  },
  {
   "cell_type": "markdown",
   "metadata": {
    "id": "zPxHd1Pj4KpN"
   },
   "source": [
    "Scenario 2: String to Float Conversion\n",
    "Context: You’re writing a program that converts a string input to a floating-point number.\n",
    "\n",
    "Scenario: The user might enter a non-numeric string, causing a ValueError.\n",
    "\n"
   ]
  },
  {
   "cell_type": "code",
   "execution_count": 12,
   "metadata": {
    "colab": {
     "base_uri": "https://localhost:8080/"
    },
    "id": "xEbmfYl51t5v",
    "outputId": "d8ce22e5-901d-4b32-d663-4aa9ab4d0f21"
   },
   "outputs": [
    {
     "name": "stdin",
     "output_type": "stream",
     "text": [
      " 2\n"
     ]
    },
    {
     "name": "stdout",
     "output_type": "stream",
     "text": [
      "2.0\n"
     ]
    }
   ],
   "source": [
    "try:\n",
    "  a = int(input())\n",
    "  a = float(a)\n",
    "except ValueError as e:\n",
    "  print(e)\n",
    "else:\n",
    "  print(a)"
   ]
  },
  {
   "cell_type": "markdown",
   "metadata": {
    "id": "nW4A1X5O8C8r"
   },
   "source": [
    "\n",
    "# **Raising User-Defined Exceptions**"
   ]
  },
  {
   "cell_type": "code",
   "execution_count": 13,
   "metadata": {
    "colab": {
     "base_uri": "https://localhost:8080/"
    },
    "id": "sC3D_sBh8D6a",
    "outputId": "b614c240-ed9e-48ae-c896-e8b52e55b0fa"
   },
   "outputs": [
    {
     "name": "stdout",
     "output_type": "stream",
     "text": [
      "Age is acceptable.\n"
     ]
    }
   ],
   "source": [
    "def check_age(age):\n",
    "    if age < 18:\n",
    "        raise ValueError(\"Age must be at least 18.\")\n",
    "    else:\n",
    "        print(\"Age is acceptable.\")\n",
    "\n",
    "try:\n",
    "    check_age(20)\n",
    "except ValueError as e:\n",
    "    print(f\"Error: {e}\")\n"
   ]
  },
  {
   "cell_type": "code",
   "execution_count": 14,
   "metadata": {
    "colab": {
     "base_uri": "https://localhost:8080/"
    },
    "id": "N2RG6Cek8D9T",
    "outputId": "fc2b2b15-46c1-45d0-943b-6e2b366ad0d4"
   },
   "outputs": [
    {
     "name": "stdout",
     "output_type": "stream",
     "text": [
      "Caught an exception: Division by zero is not allowed.\n"
     ]
    }
   ],
   "source": [
    "def divide(a, b):\n",
    "    if b == 0:\n",
    "        raise ZeroDivisionError(\"Division by zero is not allowed.\")\n",
    "    return a / b\n",
    "\n",
    "try:\n",
    "    result = divide(10, 0)\n",
    "except ZeroDivisionError as e:\n",
    "    print(f\"Caught an exception: {e}\")\n"
   ]
  },
  {
   "cell_type": "markdown",
   "metadata": {
    "id": "1SFQz5Po75ob"
   },
   "source": [
    "# **File Handling**"
   ]
  },
  {
   "cell_type": "markdown",
   "metadata": {
    "id": "4vW1oYZp9hLz"
   },
   "source": [
    "open"
   ]
  },
  {
   "cell_type": "code",
   "execution_count": 15,
   "metadata": {
    "id": "SSzpYS6y77Hg"
   },
   "outputs": [],
   "source": [
    "# file = open('FileName',mode)"
   ]
  },
  {
   "cell_type": "markdown",
   "metadata": {
    "id": "Y7i_XBfD_Lrr"
   },
   "source": [
    "r- file exist ho ni chayai hai\n",
    "\n",
    "w- it will create new file"
   ]
  },
  {
   "cell_type": "markdown",
   "metadata": {
    "id": "mYjKpVMCumRh"
   },
   "source": [
    "\n",
    "\n",
    "*   'r': Read (default mode). Opens the file for reading.\n",
    "\n",
    "*   'w': Write. Opens the file for writing (and truncates the file if it already exists).\n",
    "\n",
    "*   'a': Append. Opens the file for writing, appending new content to the end.\n",
    "\n",
    "*   'r+': Read and write.\n",
    "\n",
    "\n",
    "\n",
    "\n"
   ]
  },
  {
   "cell_type": "markdown",
   "metadata": {
    "id": "yjLdg3ayusr5"
   },
   "source": [
    "# **Reading from a File**"
   ]
  },
  {
   "cell_type": "markdown",
   "metadata": {
    "id": "wFTYIBrkuqxY"
   },
   "source": [
    "*   read()\n",
    "*   readline()\n",
    "*   readlines()\n"
   ]
  },
  {
   "cell_type": "code",
   "execution_count": 16,
   "metadata": {
    "id": "cpoVVzVf-T1L"
   },
   "outputs": [],
   "source": [
    "file = open('python1.txt','w')\n",
    "content = 'Hello Hamza'\n",
    "file.write(content)\n",
    "file.close()\n",
    "# content = file.write()\n",
    "# print(content)"
   ]
  },
  {
   "cell_type": "code",
   "execution_count": 17,
   "metadata": {
    "id": "yxIM9mMAAk0M"
   },
   "outputs": [
    {
     "name": "stdout",
     "output_type": "stream",
     "text": [
      "Hello Hamza\n"
     ]
    }
   ],
   "source": [
    "# To read file from desktop\n",
    "# G:\\Python SMIT Course\\Class 10 File Exception/python.txt\n",
    "# G:\\Python SMIT Course\\Class 10 File Exception\\python.txt\n",
    "file = open('G:\\Python SMIT Course\\Class 10 File Exception/python1.txt','r')\n",
    "content = file.read()\n",
    "print(content)"
   ]
  },
  {
   "cell_type": "code",
   "execution_count": 18,
   "metadata": {
    "id": "FOZiZA3FDd1l"
   },
   "outputs": [
    {
     "name": "stdout",
     "output_type": "stream",
     "text": [
      "Hello Hamza\n"
     ]
    }
   ],
   "source": [
    "file = open('G:\\Python SMIT Course\\Class 10 File Exception/python1.txt','r')\n",
    "content = file.read()\n",
    "print(content)"
   ]
  },
  {
   "cell_type": "code",
   "execution_count": 19,
   "metadata": {
    "colab": {
     "base_uri": "https://localhost:8080/"
    },
    "id": "kB4CEap7-wkQ",
    "outputId": "b680d1d2-df23-440d-eef6-1eabad89f845"
   },
   "outputs": [
    {
     "name": "stdout",
     "output_type": "stream",
     "text": [
      "Hello Hamza\n"
     ]
    }
   ],
   "source": [
    "file = open('python1.txt','r')\n",
    "content = file.read()\n",
    "print(content)"
   ]
  },
  {
   "cell_type": "markdown",
   "metadata": {
    "id": "P5gtREa7AuvP"
   },
   "source": [
    "Readline\n"
   ]
  },
  {
   "cell_type": "code",
   "execution_count": 20,
   "metadata": {
    "colab": {
     "base_uri": "https://localhost:8080/"
    },
    "id": "MJRipppUACcB",
    "outputId": "afd40c65-e7f3-499e-a561-d4ebafe1cde5"
   },
   "outputs": [
    {
     "name": "stdout",
     "output_type": "stream",
     "text": [
      "Hello Hamza\n",
      "Hello Hamza\n"
     ]
    }
   ],
   "source": [
    "file = open('python1.txt','r')\n",
    "content = file.readline()\n",
    "print(content)\n",
    "while content:\n",
    "    print(content.strip())\n",
    "    content = file.readline()\n",
    "file.close()\n"
   ]
  },
  {
   "cell_type": "markdown",
   "metadata": {
    "id": "yMhJf-lHEIPM"
   },
   "source": [
    "Readlines"
   ]
  },
  {
   "cell_type": "code",
   "execution_count": 21,
   "metadata": {
    "colab": {
     "base_uri": "https://localhost:8080/"
    },
    "id": "kZtVlpPOA8qx",
    "outputId": "dda31da5-ec4c-44c9-ca60-9761ac9ad3e8"
   },
   "outputs": [
    {
     "name": "stdout",
     "output_type": "stream",
     "text": [
      "['Hello Hamza']\n",
      "Hello Hamza\n"
     ]
    }
   ],
   "source": [
    "file = open('python1.txt','r')\n",
    "content = file.readlines()\n",
    "print(content)\n",
    "for line in content:\n",
    "  print(line)"
   ]
  },
  {
   "cell_type": "markdown",
   "metadata": {
    "id": "rYb678p7Gv47"
   },
   "source": [
    "# **Writing to a File**\n"
   ]
  },
  {
   "cell_type": "code",
   "execution_count": 22,
   "metadata": {
    "id": "Hkd0nbSdA--B"
   },
   "outputs": [],
   "source": [
    "file = open('python_class.txt','w')\n",
    "content = 'Saylani Mass IT Training'\n",
    "file.write(content)\n",
    "file.close()\n"
   ]
  },
  {
   "cell_type": "code",
   "execution_count": 23,
   "metadata": {
    "id": "NmPJU4OIHNnR"
   },
   "outputs": [],
   "source": [
    "file = open('python_class.txt','a')\n",
    "content = '\\n Saylani Mass IT Training'\n",
    "file.write(content)\n",
    "file.close()\n"
   ]
  },
  {
   "cell_type": "code",
   "execution_count": 24,
   "metadata": {
    "id": "TBBYr4ucHjSj"
   },
   "outputs": [],
   "source": [
    "new_content = ['Hello World \\n', 'Ni hao\\n', 'Bonjour\\n']\n",
    "file = open('python_class.txt','w')\n",
    "file.writelines(new_content)\n",
    "file.close()\n"
   ]
  },
  {
   "cell_type": "code",
   "execution_count": 25,
   "metadata": {
    "id": "-fWR-2OAO4je"
   },
   "outputs": [],
   "source": [
    "import csv\n",
    "\n",
    "with open('output.csv', 'w', newline='') as file:\n",
    "    writer = csv.writer(file)\n",
    "    writer.writerow([\"Name\", \"Age\", \"Occupation\"])\n",
    "    writer.writerow([\"Hamza\", 30, \"Data Scientist\"])\n",
    "    writer.writerow([\"Saleem\", 32, \"Data Engineer\"])\n"
   ]
  },
  {
   "cell_type": "markdown",
   "metadata": {
    "id": "Q9vB4emJu11o"
   },
   "source": [
    "# **Error Handling in File Operations**\n",
    "\n",
    "\n"
   ]
  },
  {
   "cell_type": "code",
   "execution_count": 26,
   "metadata": {
    "colab": {
     "base_uri": "https://localhost:8080/"
    },
    "id": "8jxH5-fFJlLC",
    "outputId": "670d9e0e-28af-4987-e8f9-c02f0aaafcff"
   },
   "outputs": [
    {
     "name": "stdout",
     "output_type": "stream",
     "text": [
      "Error: The file was not found.\n"
     ]
    }
   ],
   "source": [
    "try:\n",
    "    with open('non_existent_file.txt', 'r') as file:\n",
    "        content = file.read()\n",
    "except FileNotFoundError:\n",
    "    print(\"Error: The file was not found.\")\n",
    "except IOError:\n",
    "    print(\"Error: An I/O error occurred.\")\n"
   ]
  },
  {
   "cell_type": "markdown",
   "metadata": {
    "id": "PuUaBI9Cu7-g"
   },
   "source": [
    "\n",
    "Scenario 1: Handling File Not Found\n",
    "Description: You want to read from a file, but the file might not exist.\n",
    "\n"
   ]
  },
  {
   "cell_type": "code",
   "execution_count": 27,
   "metadata": {
    "id": "0J1_ec15PeOy"
   },
   "outputs": [
    {
     "name": "stdout",
     "output_type": "stream",
     "text": [
      "[Errno 2] No such file or directory: 'abc.txt'\n"
     ]
    }
   ],
   "source": [
    "try:\n",
    "  file=open(\"abc.txt\",\"r\")\n",
    "  content=file.read()\n",
    "  print(content)\n",
    "except FileNotFoundError as e:\n",
    "  print(e)"
   ]
  },
  {
   "cell_type": "markdown",
   "metadata": {
    "id": "rgFmhlGDvBrP"
   },
   "source": [
    "Scenario 2: Handling Incorrect File Mode\n",
    "Description: You open a file in read mode but attempt to write to it.\n",
    "\n"
   ]
  },
  {
   "cell_type": "code",
   "execution_count": 28,
   "metadata": {
    "id": "bdqNdUfevB_G"
   },
   "outputs": [
    {
     "name": "stdout",
     "output_type": "stream",
     "text": [
      "not readable\n"
     ]
    }
   ],
   "source": [
    "try:\n",
    "  file = open(\"myfile.txt\",mode='w')\n",
    "  file.read()\n",
    "except Exception as e :\n",
    "  print(e)"
   ]
  },
  {
   "cell_type": "code",
   "execution_count": null,
   "metadata": {},
   "outputs": [],
   "source": []
  }
 ],
 "metadata": {
  "colab": {
   "provenance": []
  },
  "kernelspec": {
   "display_name": "Python 3 (ipykernel)",
   "language": "python",
   "name": "python3"
  },
  "language_info": {
   "codemirror_mode": {
    "name": "ipython",
    "version": 3
   },
   "file_extension": ".py",
   "mimetype": "text/x-python",
   "name": "python",
   "nbconvert_exporter": "python",
   "pygments_lexer": "ipython3",
   "version": "3.11.7"
  },
  "widgets": {
   "application/vnd.jupyter.widget-state+json": {
    "state": {},
    "version_major": 2,
    "version_minor": 0
   }
  }
 },
 "nbformat": 4,
 "nbformat_minor": 4
}
