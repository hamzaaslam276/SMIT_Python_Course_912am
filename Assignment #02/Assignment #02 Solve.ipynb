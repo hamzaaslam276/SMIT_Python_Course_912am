{
 "cells": [
  {
   "cell_type": "markdown",
   "id": "31bb3701-9c14-4726-bde8-3a045809d067",
   "metadata": {},
   "source": [
    "### Scenario 1: Grocery Shopping List You are creating a program to manage a grocery shopping list. Users should be able to add items, remove items, and display the current list. "
   ]
  },
  {
   "cell_type": "code",
   "execution_count": 1,
   "id": "8809d455-0a02-43ab-ad62-0eb7c8fee18b",
   "metadata": {},
   "outputs": [
    {
     "name": "stdout",
     "output_type": "stream",
     "text": [
      "Grocery Shopping List Manager\n",
      "1. Add item\n",
      "2. Remove item\n",
      "3. Display items\n",
      "4. Exit\n"
     ]
    },
    {
     "name": "stdin",
     "output_type": "stream",
     "text": [
      "enter your choice 1,2,3,4 : 1\n",
      "enter your item  : oil\n"
     ]
    },
    {
     "name": "stdout",
     "output_type": "stream",
     "text": [
      "oil is added in your shopping list\n",
      "Grocery Shopping List Manager\n",
      "1. Add item\n",
      "2. Remove item\n",
      "3. Display items\n",
      "4. Exit\n"
     ]
    },
    {
     "name": "stdin",
     "output_type": "stream",
     "text": [
      "enter your choice 1,2,3,4 : 4\n"
     ]
    },
    {
     "name": "stdout",
     "output_type": "stream",
     "text": [
      "Exiting\n"
     ]
    }
   ],
   "source": [
    "def add_items(shopping_list,item):\n",
    "    if item not in shopping_list:\n",
    "        shopping_list.append(item)\n",
    "        print(f\"{item} is added in your shopping list\")\n",
    "    else:\n",
    "        print(f\"Sorry {item} allready available in list\")\n",
    "def remove_item(shopping_list,item):\n",
    "    if item in shopping_list:\n",
    "        shopping_list.remove(item)\n",
    "        print(f\"{item} has been removed from your list\")\n",
    "    else:\n",
    "        print(f\"{item} not available in list\")\n",
    "\n",
    "def show_list(shopping_list):\n",
    "    if shopping_list:\n",
    "        print(\"your shopping list concluded\")\n",
    "        for item in shopping_list:\n",
    "            print(f\"{item}\")\n",
    "\n",
    "def main():\n",
    "    shopping_list =[]\n",
    "\n",
    "    while True:\n",
    "        print(\"Grocery Shopping List Manager\")\n",
    "        print(\"1. Add item\")\n",
    "        print(\"2. Remove item\")\n",
    "        print(\"3. Display items\")\n",
    "        print(\"4. Exit\")\n",
    "\n",
    "        choice = int(input(\"enter your choice 1,2,3,4 :\"))\n",
    "        if choice == 1:\n",
    "            item = input(\"enter your item  :\")\n",
    "            add_items(shopping_list,item)\n",
    "        elif choice == 2:\n",
    "            item = input(\"enter your item to remove  :\")\n",
    "            remove_item(shopping_list,item)\n",
    "        elif choice== 3:\n",
    "            show_list(shopping_list)\n",
    "        elif choice == 4:\n",
    "            print(\"Exiting\")\n",
    "            break\n",
    "        else:\n",
    "            print(\"invalid choice .please enter only 1 to 4\")\n",
    "\n",
    "\n",
    "main()"
   ]
  },
  {
   "cell_type": "markdown",
   "id": "dee4c669-e2f6-436c-afe1-46beba144b0a",
   "metadata": {},
   "source": [
    "### Scenario 2: Student Grades  You are managing student grades using a dictionary. You need to calculate the average grade.take atleast 5 Students grades & then calculate the average. "
   ]
  },
  {
   "cell_type": "code",
   "execution_count": 2,
   "id": "a400060c-915f-4cc1-a34c-d342fd6556e6",
   "metadata": {},
   "outputs": [],
   "source": [
    "students = {\n",
    "    \"Hamza\" : 98,\n",
    "    \"Majid\" : 97,\n",
    "    \"Saleem\" : 90,\n",
    "    \"Sami\" : 89,\n",
    "    \"Altaf\" : 92\n",
    "}\n",
    "Total_marks = sum(students.values())\n",
    "Total_students = len(students)\n",
    "Average = Total_marks / Total_students"
   ]
  },
  {
   "cell_type": "code",
   "execution_count": 3,
   "id": "91b87770-4fda-42b0-8df7-3f3d79aafa09",
   "metadata": {},
   "outputs": [
    {
     "name": "stdout",
     "output_type": "stream",
     "text": [
      "Total_marks of Students: 466\n",
      "Total_students : 5\n",
      "Average:  93.2 %\n"
     ]
    }
   ],
   "source": [
    "print(\"Total_marks of Students:\",Total_marks)\n",
    "print(\"Total_students :\", Total_students)\n",
    "print(\"Average: \",Average,\"%\")"
   ]
  },
  {
   "cell_type": "markdown",
   "id": "31c36b52-ef81-4db4-8c9b-b8e22d84f3db",
   "metadata": {},
   "source": [
    "### Scenario 3: Word Frequency Counter You are given a list of words, and you need to count the frequency of each word. word_list = [\"apple\", \"banana\", \"apple\", \"orange\", \"banana\", \"grape\", \"apple\"]"
   ]
  },
  {
   "cell_type": "code",
   "execution_count": 4,
   "id": "1ba51430-40b1-4ad9-8308-72cbe8e5a105",
   "metadata": {},
   "outputs": [
    {
     "name": "stdout",
     "output_type": "stream",
     "text": [
      "{'apple': 3, 'banana': 2, 'orange': 1, 'grape': 1}\n"
     ]
    }
   ],
   "source": [
    "word_list = [\"apple\", \"banana\", \"apple\", \"orange\", \"banana\", \"grape\", \"apple\"]\n",
    "frequency_counter = {}\n",
    "for item in word_list: \n",
    "    if item in frequency_counter: \n",
    "        frequency_counter[item] += 1\n",
    "    else:\n",
    "        frequency_counter[item] = 1\n",
    "\n",
    "print(frequency_counter)"
   ]
  },
  {
   "cell_type": "markdown",
   "id": "e908113a-2ae5-4d88-87e3-ef3a3ca295a4",
   "metadata": {},
   "source": [
    "### Scenario 3: Password Strength Checker You are creating a program to check the strength of passwords based on certain criteria. \n",
    "*  Password should be at least 8 characters long. \n",
    "*  Password should contain at least one digit. \n",
    "*  Password should contain at least upper letter. "
   ]
  },
  {
   "cell_type": "code",
   "execution_count": 5,
   "id": "08c19b9e-4fcc-42c9-8d07-e45260769f78",
   "metadata": {},
   "outputs": [
    {
     "name": "stdin",
     "output_type": "stream",
     "text": [
      "Enter a password: Hamzaaslam276\n"
     ]
    },
    {
     "name": "stdout",
     "output_type": "stream",
     "text": [
      "Password is Valid.\n"
     ]
    }
   ],
   "source": [
    "password = input(\"Enter a password:\")\n",
    "if len(password) < 8:\n",
    "    print(\"The password must be at least eight characters long.\")\n",
    "if not any(char.isdigit() for char in password):\n",
    "    print(\"It must contain at least one numeric digit.\")\n",
    "if not any(char.isupper() for char in password):\n",
    "    print(\"It must contain at least one upper letter.\")    \n",
    "else:\n",
    "    print(\"Password is Valid.\")"
   ]
  },
  {
   "cell_type": "code",
   "execution_count": null,
   "id": "29adba4a-2be1-4a78-ba47-aea14205afa0",
   "metadata": {},
   "outputs": [],
   "source": []
  }
 ],
 "metadata": {
  "kernelspec": {
   "display_name": "Python 3 (ipykernel)",
   "language": "python",
   "name": "python3"
  },
  "language_info": {
   "codemirror_mode": {
    "name": "ipython",
    "version": 3
   },
   "file_extension": ".py",
   "mimetype": "text/x-python",
   "name": "python",
   "nbconvert_exporter": "python",
   "pygments_lexer": "ipython3",
   "version": "3.11.7"
  },
  "widgets": {
   "application/vnd.jupyter.widget-state+json": {
    "state": {},
    "version_major": 2,
    "version_minor": 0
   }
  }
 },
 "nbformat": 4,
 "nbformat_minor": 5
}
