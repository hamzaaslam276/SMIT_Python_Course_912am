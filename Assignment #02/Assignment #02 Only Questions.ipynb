{
 "cells": [
  {
   "cell_type": "code",
   "execution_count": 115,
   "id": "26fd1e68-836f-4632-822a-849b55b270fe",
   "metadata": {},
   "outputs": [
    {
     "name": "stdout",
     "output_type": "stream",
     "text": [
      "\n",
      "Options:\n",
      "1. Add item\n",
      "2. Remove item\n",
      "3. Display list\n",
      "4. Quit\n"
     ]
    },
    {
     "name": "stdin",
     "output_type": "stream",
     "text": [
      "Choose an option:  4\n"
     ]
    }
   ],
   "source": [
    "# Scenario 1: Grocery Shopping List\n",
    "# You are creating a program to manage a grocery shopping list. Users should be able to add items, \n",
    "# remove items, and display the current list.\n",
    "class GroceryList:\n",
    "    def __init__(self):\n",
    "        self.items = []\n",
    "\n",
    "    def add_item(self, item):\n",
    "        self.items.append(item)\n",
    "        print(f\"{item} has been added to the list.\")\n",
    "\n",
    "    def remove_item(self, item):\n",
    "        if item in self.items:\n",
    "            self.items.remove(item)\n",
    "            print(f\"{item} has been removed from the list.\")\n",
    "        else:\n",
    "            print(f\"{item} is not in the list.\")\n",
    "\n",
    "    def display_list(self):\n",
    "        if not self.items:\n",
    "            print(\"The grocery list is empty.\")\n",
    "        else:\n",
    "            print(\"Grocery list:\")\n",
    "            for item in self.items:\n",
    "                print(f\"- {item}\")\n",
    "\n",
    "def main():\n",
    "    grocery_list = GroceryList()\n",
    "    \n",
    "    while True:\n",
    "        print(\"\\nOptions:\")\n",
    "        print(\"1. Add item\")\n",
    "        print(\"2. Remove item\")\n",
    "        print(\"3. Display list\")\n",
    "        print(\"4. Quit\")\n",
    "\n",
    "        choice = input(\"Choose an option: \")\n",
    "\n",
    "        if choice == '1':\n",
    "            item = input(\"Enter the item to add: \")\n",
    "            grocery_list.add_item(item)\n",
    "        elif choice == '2':\n",
    "            item = input(\"Enter the item to remove: \")\n",
    "            grocery_list.remove_item(item)\n",
    "        elif choice == '3':\n",
    "            grocery_list.display_list()\n",
    "        elif choice == '4':\n",
    "            break\n",
    "        else:\n",
    "            print(\"Invalid choice. Please choose a valid option.\")\n",
    "\n",
    "if __name__ == \"__main__\":\n",
    "    main()\n"
   ]
  },
  {
   "cell_type": "code",
   "execution_count": 127,
   "id": "5f0d5a06-c42b-4c8a-ae7f-1fa1b4b94bf1",
   "metadata": {},
   "outputs": [
    {
     "name": "stdout",
     "output_type": "stream",
     "text": [
      "Enter Your Greades for 5 student:\n"
     ]
    },
    {
     "name": "stdin",
     "output_type": "stream",
     "text": [
      "Enter the Name of Student 1:  h\n",
      "Enter the Grade of Student h : h\n"
     ]
    },
    {
     "ename": "ValueError",
     "evalue": "could not convert string to float: 'h'",
     "output_type": "error",
     "traceback": [
      "\u001b[1;31m---------------------------------------------------------------------------\u001b[0m",
      "\u001b[1;31mValueError\u001b[0m                                Traceback (most recent call last)",
      "Cell \u001b[1;32mIn[127], line 11\u001b[0m\n\u001b[0;32m      9\u001b[0m \u001b[38;5;28;01mfor\u001b[39;00m i \u001b[38;5;129;01min\u001b[39;00m \u001b[38;5;28mrange\u001b[39m(Number_of_student):\n\u001b[0;32m     10\u001b[0m     name \u001b[38;5;241m=\u001b[39m \u001b[38;5;28minput\u001b[39m(\u001b[38;5;124mf\u001b[39m\u001b[38;5;124m\"\u001b[39m\u001b[38;5;124mEnter the Name of Student \u001b[39m\u001b[38;5;132;01m{\u001b[39;00mi\u001b[38;5;250m \u001b[39m\u001b[38;5;241m+\u001b[39m\u001b[38;5;250m \u001b[39m\u001b[38;5;241m1\u001b[39m\u001b[38;5;132;01m}\u001b[39;00m\u001b[38;5;124m: \u001b[39m\u001b[38;5;124m\"\u001b[39m)\n\u001b[1;32m---> 11\u001b[0m     grade \u001b[38;5;241m=\u001b[39m \u001b[38;5;28mfloat\u001b[39m(\u001b[38;5;28minput\u001b[39m(\u001b[38;5;124mf\u001b[39m\u001b[38;5;124m\"\u001b[39m\u001b[38;5;124mEnter the Grade of Student \u001b[39m\u001b[38;5;132;01m{\u001b[39;00mname\u001b[38;5;132;01m}\u001b[39;00m\u001b[38;5;124m :\u001b[39m\u001b[38;5;124m\"\u001b[39m))\n\u001b[0;32m     12\u001b[0m     student_grades[name] \u001b[38;5;241m=\u001b[39m grade\n\u001b[0;32m     13\u001b[0m total_grades \u001b[38;5;241m=\u001b[39m \u001b[38;5;28msum\u001b[39m(student_grades\u001b[38;5;241m.\u001b[39mvalues())\n",
      "\u001b[1;31mValueError\u001b[0m: could not convert string to float: 'h'"
     ]
    }
   ],
   "source": [
    "# Scenario 2: Student Grades\n",
    "# You are managing student grades using a dictionary. You need to calculate the average grade.take \n",
    "# atleast 5 Students grades & then calculate the average.\n",
    "\n",
    "student_grades = {}\n",
    "Number_of_student = 5\n",
    "print(f\"Enter Your Greades for {Number_of_student} student:\")\n",
    "\n",
    "for i in range(Number_of_student):\n",
    "    name = input(f\"Enter the Name of Student {i + 1}: \")\n",
    "    grade = float(input(f\"Enter the Grade of Student {name} :\"))\n",
    "    student_grades[name] = grade\n",
    "total_grades = sum(student_grades.values())\n",
    "average_grade = total_grades / Number_of_student\n",
    "\n",
    "print(\"\\nStudent Grades:\")\n",
    "for name, grade in student_grades.items():\n",
    "    print(f\"{name}: {grade}\")\n",
    "print(f\"\\nThe average grade is: {average_grade:.2f}\")\n"
   ]
  },
  {
   "cell_type": "code",
   "execution_count": 130,
   "id": "b83d6abe-8381-4fd7-a847-df2801cd2569",
   "metadata": {
    "scrolled": true
   },
   "outputs": [
    {
     "name": "stdout",
     "output_type": "stream",
     "text": [
      "Please enter the grades for 5 students:\n"
     ]
    },
    {
     "name": "stdin",
     "output_type": "stream",
     "text": [
      "Enter the name of student 1:  j\n",
      "Enter the grade for j:  77\n",
      "Enter the name of student 2:  u\n",
      "Enter the grade for u:  77\n",
      "Enter the name of student 3:  j\n",
      "Enter the grade for j:  88\n",
      "Enter the name of student 4:  k\n",
      "Enter the grade for k:  99\n",
      "Enter the name of student 5:  l\n",
      "Enter the grade for l:  88\n"
     ]
    },
    {
     "ename": "TypeError",
     "evalue": "unsupported operand type(s) for -: 'dict_values' and 'int'",
     "output_type": "error",
     "traceback": [
      "\u001b[1;31m---------------------------------------------------------------------------\u001b[0m",
      "\u001b[1;31mTypeError\u001b[0m                                 Traceback (most recent call last)",
      "Cell \u001b[1;32mIn[130], line 16\u001b[0m\n\u001b[0;32m     13\u001b[0m     student_grades[name] \u001b[38;5;241m=\u001b[39m grade\n\u001b[0;32m     15\u001b[0m \u001b[38;5;66;03m# Calculate the average grade\u001b[39;00m\n\u001b[1;32m---> 16\u001b[0m total_grades \u001b[38;5;241m=\u001b[39m \u001b[38;5;28msum\u001b[39m(student_grades\u001b[38;5;241m.\u001b[39mvalues())\n\u001b[0;32m     17\u001b[0m average_grade \u001b[38;5;241m=\u001b[39m total_grades \u001b[38;5;241m/\u001b[39m num_students\n\u001b[0;32m     19\u001b[0m \u001b[38;5;66;03m# Display the entered student grades\u001b[39;00m\n",
      "Cell \u001b[1;32mIn[101], line 4\u001b[0m, in \u001b[0;36msum\u001b[1;34m(n)\u001b[0m\n\u001b[0;32m      2\u001b[0m \u001b[38;5;28;01mif\u001b[39;00m n \u001b[38;5;241m==\u001b[39m \u001b[38;5;241m0\u001b[39m:\n\u001b[0;32m      3\u001b[0m     \u001b[38;5;28;01mreturn\u001b[39;00m \u001b[38;5;241m0\u001b[39m\n\u001b[1;32m----> 4\u001b[0m \u001b[38;5;28;01mreturn\u001b[39;00m \u001b[38;5;28msum\u001b[39m(n\u001b[38;5;241m-\u001b[39m\u001b[38;5;241m1\u001b[39m) \u001b[38;5;241m+\u001b[39m n\n",
      "\u001b[1;31mTypeError\u001b[0m: unsupported operand type(s) for -: 'dict_values' and 'int'"
     ]
    }
   ],
   "source": [
    "# Create an empty dictionary to store student grades\n",
    "student_grades = {}\n",
    "\n",
    "# Number of students to be entered\n",
    "num_students = 5\n",
    "\n",
    "print(f\"Please enter the grades for {num_students} students:\")\n",
    "\n",
    "# Use a for loop to get input from the user\n",
    "for i in range(num_students):\n",
    "    name = input(f\"Enter the name of student {i+1}: \")\n",
    "    grade = float(input(f\"Enter the grade for {name}: \"))\n",
    "    student_grades[name] = grade\n",
    "\n",
    "# Calculate the average grade\n",
    "total_grades = sum(student_grades.values())\n",
    "average_grade = total_grades / num_students\n",
    "\n",
    "# Display the entered student grades\n",
    "print(\"\\nStudent Grades:\")\n",
    "for name, grade in student_grades.items():\n",
    "    print(f\"{name}: {grade}\")\n",
    "\n",
    "# Print the average grade\n",
    "print(f\"\\nThe average grade is: {average_grade:.2f}\")\n"
   ]
  },
  {
   "cell_type": "code",
   "execution_count": null,
   "id": "f4656900-8273-4ce6-bc52-c3dd0170cffa",
   "metadata": {},
   "outputs": [],
   "source": []
  }
 ],
 "metadata": {
  "kernelspec": {
   "display_name": "Python 3 (ipykernel)",
   "language": "python",
   "name": "python3"
  },
  "language_info": {
   "codemirror_mode": {
    "name": "ipython",
    "version": 3
   },
   "file_extension": ".py",
   "mimetype": "text/x-python",
   "name": "python",
   "nbconvert_exporter": "python",
   "pygments_lexer": "ipython3",
   "version": "3.11.7"
  }
 },
 "nbformat": 4,
 "nbformat_minor": 5
}
