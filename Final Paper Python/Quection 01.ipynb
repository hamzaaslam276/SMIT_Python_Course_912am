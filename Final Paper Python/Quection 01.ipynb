{
 "cells": [
  {
   "cell_type": "markdown",
   "id": "6a43a6f8-6dd1-404e-98fe-3590918a861a",
   "metadata": {},
   "source": [
    "Question 01: File Analysis and Word Search\r\n",
    "Instructions:\r\n",
    "1. Write a Python function named analyze_file that takes the name of a \r\n",
    "file as input and returns a dictionary containing the counts of characters,\r\n",
    "words, and lines in that file.\r\n",
    "2. Write another Python function named search_word that takes the name\r\n",
    "of a file and a word as input and returns the count of occurrences of that\r\n",
    "word in the file.\r\n",
    "3. Ensure that your functions handle file not found errors gracefully and\r\n",
    "return ae values in such cases.and robustness.\r\n",
    "ess and robustness.\r\n"
   ]
  },
  {
   "cell_type": "markdown",
   "id": "5326cbce-d964-4f42-82d9-53626feb2f80",
   "metadata": {},
   "source": [
    "Submission:\n",
    "Additional Notes:\n",
    "*  Ensure that your functions are properly documented with clear\n",
    "descriptions of parameters, return values, and any assumptions made.\n",
    "* Use appropriate error handling techniques to handle potential exceptions.\n",
    "* Test your functions with different input files and scenarios to verify\n",
    "their correctness and robustness."
   ]
  },
  {
   "cell_type": "code",
   "execution_count": 1,
   "id": "70de7a84-3d45-49d4-9e0f-9439cd3bf217",
   "metadata": {},
   "outputs": [],
   "source": [
    "massage ='''My name is hamza\n",
    "I am learning Python form SMIT\n",
    "saylani Mass\n",
    "information technology\n",
    "bahadurabad SMIT\n",
    "Karachi\n",
    "in SMIT i lam learning python from Sir Qasim\n",
    "SMIT is initiated by Farooqi sb'''\n",
    "with open('sample.txt', 'w') as file:\n",
    "    file.write(massage)"
   ]
  },
  {
   "cell_type": "code",
   "execution_count": 2,
   "id": "388d9e67-c3ea-4b0f-af81-0a85fe676ce5",
   "metadata": {},
   "outputs": [
    {
     "name": "stdout",
     "output_type": "stream",
     "text": [
      "File Analysis: {'characters': 185, 'words': 32, 'lines': 8}\n",
      "The word 'SMIT' appears 4 times in the file.\n"
     ]
    }
   ],
   "source": [
    "def analyze_file(filename):\n",
    "    try:\n",
    "        with open(filename, 'r') as file:\n",
    "            lines = file.readlines()\n",
    "            characters = sum(len(line) for line in lines) \n",
    "            words = sum(len(line.split()) for line in lines) \n",
    "            line_count = len(lines) \n",
    "\n",
    "            return {\n",
    "                'characters': characters,\n",
    "                'words': words,\n",
    "                'lines': line_count\n",
    "            }\n",
    "    except FileNotFoundError:\n",
    "        print(f\"Error: The file '{filename}' was not found.\")\n",
    "        return None\n",
    "    except Exception as e:\n",
    "        print(f\"An error occurred: {e}\")\n",
    "        return None\n",
    "\n",
    "def search_word(filename, word):\n",
    "    try:\n",
    "        count = 0\n",
    "        with open(filename, 'r') as file:\n",
    "            for line in file:\n",
    "                count += line.lower().split().count(word.lower())  \n",
    "        return count\n",
    "    except FileNotFoundError:\n",
    "        print(f\"Error: The file '{filename}' was not found.\")\n",
    "        return None\n",
    "    except Exception as e:\n",
    "        print(f\"An error occurred: {e}\")\n",
    "        return None\n",
    "\n",
    "\n",
    "result = analyze_file('sample.txt')\n",
    "if result:\n",
    "    print(\"File Analysis:\", result)\n",
    "\n",
    "\n",
    "word_count = search_word('sample.txt', 'SMIT')\n",
    "if word_count is not None:\n",
    "    print(f\"The word 'SMIT' appears {word_count} times in the file.\")"
   ]
  },
  {
   "cell_type": "code",
   "execution_count": null,
   "id": "99e759ff-c0aa-4bdf-b332-7f63c395bc60",
   "metadata": {},
   "outputs": [],
   "source": []
  }
 ],
 "metadata": {
  "kernelspec": {
   "display_name": "Python 3 (ipykernel)",
   "language": "python",
   "name": "python3"
  },
  "language_info": {
   "codemirror_mode": {
    "name": "ipython",
    "version": 3
   },
   "file_extension": ".py",
   "mimetype": "text/x-python",
   "name": "python",
   "nbconvert_exporter": "python",
   "pygments_lexer": "ipython3",
   "version": "3.11.7"
  },
  "widgets": {
   "application/vnd.jupyter.widget-state+json": {
    "state": {},
    "version_major": 2,
    "version_minor": 0
   }
  }
 },
 "nbformat": 4,
 "nbformat_minor": 5
}
