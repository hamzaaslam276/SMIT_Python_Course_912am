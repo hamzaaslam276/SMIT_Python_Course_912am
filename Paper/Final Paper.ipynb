{
 "cells": [
  {
   "cell_type": "markdown",
   "id": "571cba6f-784c-410f-970a-9ee8fa0ef909",
   "metadata": {},
   "source": [
    "### Question 2: Library Management System using Python OOP\n",
    "Problem Statement:\n",
    "Create a simplified Library Management System with Python classes that \n",
    "represent a Library, Books, and Users. Your goal is to design the system so that \n",
    "it enables basic functionalities, including adding and managing books, \n",
    "registering users, and borrowing/returning books."
   ]
  },
  {
   "cell_type": "markdown",
   "id": "a9510fde-e97d-40d4-a82f-ec32f000975a",
   "metadata": {},
   "source": [
    "### 1. Create a base class named Book:\n",
    "o Attributes:\n",
    "▪ title (string): The title of the book.\n",
    "▪ author (string): The author of the book.\n",
    "▪ isbn (string): A unique identifier for each book.\n",
    "▪ is_borrowed (boolean): Indicates if the book is currently \n",
    "borrowed.\n",
    "o Methods:\n",
    "▪ borrow(): Sets the is_borrowed attribute to True.\n",
    "▪ return_book(): Sets the is_borrowed attribute to False."
   ]
  },
  {
   "cell_type": "code",
   "execution_count": 1,
   "id": "35a6dc47-5cf6-4a80-b6df-dd90d64088a7",
   "metadata": {},
   "outputs": [
    {
     "name": "stdout",
     "output_type": "stream",
     "text": [
      "'Python' has been borrowed.\n",
      "'Python' has been returned.\n",
      "'Data Science' is already available.\n"
     ]
    }
   ],
   "source": [
    "class Book:\n",
    "    def __init__(self, title, author, isbn):\n",
    "        self.title = title\n",
    "        self.author = author\n",
    "        self.isbn = isbn\n",
    "        self.is_borrowed = False\n",
    "\n",
    "    def borrow(self):\n",
    "        if not self.is_borrowed:\n",
    "            self.is_borrowed = True\n",
    "            print(f\"'{self.title}' has been borrowed.\")\n",
    "        else:\n",
    "            print(f\"'{self.title}' is already borrowed.\")\n",
    "\n",
    "    def return_book(self):\n",
    "        if self.is_borrowed:\n",
    "            self.is_borrowed = False\n",
    "            print(f\"'{self.title}' has been returned.\")\n",
    "        else:\n",
    "            print(f\"'{self.title}' is already available.\")\n",
    "\n",
    "book =Book(\"Python\", \"aaa\", \"111\")\n",
    "book1 = Book(\"Data Science\",\"bbb\", \"222\")\n",
    "book.borrow()\n",
    "book.return_book()\n",
    "book1.return_book()"
   ]
  },
  {
   "cell_type": "markdown",
   "id": "60e22100-1e9f-42ae-93f6-b9fded0ba17e",
   "metadata": {},
   "source": [
    "### 2. Create a subclass named DigitalBook that inherits from Book:\n",
    "o Additional Attributes:\n",
    "▪ file_format (string): Format of the digital book (e.g., PDF, \n",
    "EPUB).\n",
    "o Override the borrow() method to print an additional message \n",
    "indicating that the book can be accessed online."
   ]
  },
  {
   "cell_type": "code",
   "execution_count": 2,
   "id": "f2d8e146-2747-47d4-a9a5-ce56fb76b5d5",
   "metadata": {},
   "outputs": [
    {
     "name": "stdout",
     "output_type": "stream",
     "text": [
      "'Python' has been borrowed.\n",
      "You can access 'Python' online in PDF format.\n"
     ]
    }
   ],
   "source": [
    "class DigitalBook(Book):\n",
    "    def __init__(self, title, author, isbn, file_format):\n",
    "        Book.__init__(self,title, author, isbn)\n",
    "        self.file_format = file_format\n",
    "\n",
    "    def borrow(self):\n",
    "        Book.borrow(self)\n",
    "        print(f\"You can access '{self.title}' online in {self.file_format} format.\")\n",
    "\n",
    "dig_book = DigitalBook(\"Python\", \"aaa\", \"111\",\"PDF\")\n",
    "dig_book.borrow()"
   ]
  },
  {
   "cell_type": "markdown",
   "id": "3e0128ee-b955-4b62-8c07-48a85e0b8b3f",
   "metadata": {},
   "source": [
    "### 3. Create another subclass named AudioBook that inherits from Book:\n",
    "o Additional Attributes:\n",
    "▪ duration (float): The length of the audiobook in hours.\n",
    "o Override the borrow() method to print an additional message \n",
    "indicating that the audiobook is available for streaming.\n"
   ]
  },
  {
   "cell_type": "code",
   "execution_count": 3,
   "id": "37b0596b-917f-4393-b88b-d9524f6ca495",
   "metadata": {},
   "outputs": [
    {
     "name": "stdout",
     "output_type": "stream",
     "text": [
      "'Data Science' has been borrowed.\n",
      "'Data Science' is available for streaming. Total duration: 50 min hours.\n"
     ]
    }
   ],
   "source": [
    "class AudioBook(Book):\n",
    "    def __init__(self, title, author, isbn, duration):\n",
    "        Book.__init__(self,title, author, isbn)\n",
    "        self.duration = duration\n",
    "\n",
    "    def borrow(self):\n",
    "        Book.borrow(self)\n",
    "        print(f\"'{self.title}' is available for streaming. Total duration: {self.duration} hours.\")\n",
    "audio_book = AudioBook(\"Data Science\",\"bbb\", \"222\",\"50 min\")\n",
    "audio_book.borrow()"
   ]
  },
  {
   "cell_type": "markdown",
   "id": "739968d7-4533-41a2-9978-0d9743cdbb2c",
   "metadata": {},
   "source": [
    "### 4. Create a class named User:\n",
    "o Attributes:\n",
    "▪ user_id (string): A unique identifier for each user.\n",
    "▪ name (string): The user’s name.\n",
    "▪ borrowed_books (list): A list of Book objects borrowed by \n",
    "the user.\n",
    "o Methods:\n",
    "▪ borrow_book(book): Adds a book to borrowed_books if it is \n",
    "not already borrowed. Use encapsulation to ensure users \n",
    "cannot modify borrowed_books directly.\n",
    "▪ return_book(book): Removes the book from \n",
    "borrowed_books and marks it as returned.\n"
   ]
  },
  {
   "cell_type": "code",
   "execution_count": 4,
   "id": "37154665-2ed0-40b9-81dc-4d7ba51e149d",
   "metadata": {},
   "outputs": [
    {
     "name": "stdout",
     "output_type": "stream",
     "text": [
      "'Python' has been borrowed.\n"
     ]
    }
   ],
   "source": [
    "class User:\n",
    "    def __init__(self, user_id, name):\n",
    "        self.__user_id = user_id\n",
    "        self.__name = name\n",
    "        self.__borrowed_books = []\n",
    "\n",
    "    @property\n",
    "    def user_id(self):\n",
    "        return self.__user_id\n",
    "\n",
    "    @property\n",
    "    def name(self):\n",
    "        return self.__name\n",
    "\n",
    "    @property\n",
    "    def borrowed_books(self):\n",
    "        return self.__borrowed_books.copy()\n",
    "\n",
    "    def borrow_book(self, book):\n",
    "        if book not in self.__borrowed_books and not book.is_borrowed:\n",
    "            book.borrow()\n",
    "            self.__borrowed_books.append(book)\n",
    "        else:\n",
    "            print(f\"You have already borrowed '{book.title}' or it is not available.\")\n",
    "\n",
    "    def return_book(self, book):\n",
    "        if book in self.__borrowed_books:\n",
    "            book.return_book()\n",
    "            self.__borrowed_books.remove(book)\n",
    "        else:\n",
    "            print(f\"You have not borrowed '{book.title}'.\")\n",
    "v = User(\"34050\",\"Hamza\")\n",
    "v.borrow_book(book)"
   ]
  },
  {
   "cell_type": "markdown",
   "id": "bc7ae7d7-463b-488c-ba79-52767f408cc1",
   "metadata": {},
   "source": [
    "### 5. Create a class named Library:\n",
    "o Attributes:\n",
    "▪ name (string): Name of the library.\n",
    "▪ books (list): A list of all Book objects in the library.\n",
    "▪ users (list): A list of all registered User objects.\n",
    "o Methods:\n",
    "▪ add_book(book): Adds a new book to the library.\n",
    "▪ register_user(user): Registers a new user.\n",
    "▪ lend_book(user_id, isbn): Allows a user to borrow a book if \n",
    "available.\n",
    "▪ receive_return(user_id, isbn): Allows a user to return a \n",
    "borrowed book.\n",
    "Requirements:\n",
    "• Inheritance should be evident in the DigitalBook and AudioBook\n",
    "subclasses that inherit from the Book base class.\n",
    "• Polymorphism should be demonstrated in the overridden borrow()\n",
    "methods of DigitalBook and AudioBook.\n",
    "• Encapsulation should be used in the User class to prevent direct \n",
    "modification of the borrowed_books attribute from outside the class.\n",
    "Submission:\n",
    "Submit your Python script containing all the classes (Book, DigitalBook, \n",
    "AudioBook, User, and Library) along with test cases demonstrating the \n",
    "following scenarios:\n",
    "1. Adding books and users to the library.\n",
    "2. Users borrowing and returning both digital and physical books.\n",
    "3. Handling cases where users try to borrow books that are already \n",
    "borrowed.\n",
    "Additional Notes:\n",
    "• Document your code, explaining each class and method.\n",
    "• Use error handling to manage potential issues, such as borrowing a \n",
    "book that's unavailable.\n",
    "• Test the system by creating instances of DigitalBook and AudioBook, \n",
    "and by simulatin"
   ]
  },
  {
   "cell_type": "code",
   "execution_count": 13,
   "id": "89c6ec6f-cda5-4961-bf61-7fe857db5248",
   "metadata": {},
   "outputs": [],
   "source": [
    "class Library:\n",
    "    def __init__(self):\n",
    "        self.name = \"My Library\"\n",
    "        self.books = []\n",
    "        self.users = []\n",
    "\n",
    "    def add_book(self, book):\n",
    "        self.books.append(book)\n",
    "        print(f\"'{book.title}' has been added to the library.\")\n",
    "    def display_books(self):\n",
    "        print(\"Available Books:\")\n",
    "        for book in self.books:\n",
    "            if not book.is_borrowed:\n",
    "                print(f\"{book.title} by {book.author}\")\n",
    "\n",
    "   \n",
    "\n",
    "library = Library()\n",
    "\n",
    "book1 = Book(\"Data Science\",\"bbb\", \"222\")\n",
    "digital_book1 = DigitalBook(\"Data Science\",\"bbb\", \"222\", \"PDF\")\n",
    "audio_book1 = AudioBook(\"Data Science\",\"bbb\", \"222\",\"50 min\")\n"
   ]
  },
  {
   "cell_type": "markdown",
   "id": "a8a90211-d411-413f-a2e9-fedb691c4063",
   "metadata": {},
   "source": [
    "### 1.Question 01: File Analysis and Word Search\n",
    "Instructions:\n",
    "1. Write a Python function named analyze_file that takes the name of a \n",
    "file as input and returns a dictionary containing the counts of characters,\n",
    "words, and lines in that file.\n",
    "2. Write another Python function named search_word that takes the name\n",
    "of a file and a word as input and returns the count of occurrences of that\n",
    "word in the file.\n",
    "3. Ensure that your functions handle file not found errors gracefully and\n",
    "return appropriate values in such cases.\n",
    "Submission:\n",
    "Additional Notes:\n",
    "• Ensure that your functions are properly documented with clear\n",
    "descriptions of parameters, return values, and any assumptions made.\n",
    "• Use appropriate error handling techniques to handle potential exceptions.\n",
    "• Test your functions with different input files and scenarios to verify\n",
    "their correctness and robustness.\n"
   ]
  },
  {
   "cell_type": "code",
   "execution_count": 2,
   "id": "4f8f0051-4dc7-4266-bb48-d9805ebac271",
   "metadata": {},
   "outputs": [],
   "source": [
    "with open(sample.txt, 'w') as file:\n",
    "    file.write()"
   ]
  },
  {
   "cell_type": "code",
   "execution_count": 5,
   "id": "25f3745c-6dfc-4169-a756-12f83af4eacb",
   "metadata": {},
   "outputs": [
    {
     "name": "stdout",
     "output_type": "stream",
     "text": [
      "File Analysis: {'characters': 185, 'words': 32, 'lines': 8}\n",
      "The word 'SMIT' appears 4 times in the file.\n"
     ]
    }
   ],
   "source": [
    "def analyze_file(filename):\n",
    "    try:\n",
    "        with open(filename, 'r') as file:\n",
    "            lines = file.readlines()\n",
    "            characters = sum(len(line) for line in lines) \n",
    "            words = sum(len(line.split()) for line in lines) \n",
    "            line_count = len(lines) \n",
    "\n",
    "            return {\n",
    "                'characters': characters,\n",
    "                'words': words,\n",
    "                'lines': line_count\n",
    "            }\n",
    "    except FileNotFoundError:\n",
    "        print(f\"Error: The file '{filename}' was not found.\")\n",
    "        return None\n",
    "    except Exception as e:\n",
    "        print(f\"An error occurred: {e}\")\n",
    "        return None\n",
    "\n",
    "def search_word(filename, word):\n",
    "    try:\n",
    "        count = 0\n",
    "        with open(filename, 'r') as file:\n",
    "            for line in file:\n",
    "                count += line.lower().split().count(word.lower())  \n",
    "        return count\n",
    "    except FileNotFoundError:\n",
    "        print(f\"Error: The file '{filename}' was not found.\")\n",
    "        return None\n",
    "    except Exception as e:\n",
    "        print(f\"An error occurred: {e}\")\n",
    "        return None\n",
    "\n",
    "\n",
    "result = analyze_file('sample.txt')\n",
    "if result:\n",
    "    print(\"File Analysis:\", result)\n",
    "\n",
    "\n",
    "word_count = search_word('sample.txt', 'SMIT')\n",
    "if word_count is not None:\n",
    "    print(f\"The word 'SMIT' appears {word_count} times in the file.\")"
   ]
  },
  {
   "cell_type": "code",
   "execution_count": null,
   "id": "83808d38-b230-4108-986b-80b41bf60a3f",
   "metadata": {},
   "outputs": [],
   "source": []
  }
 ],
 "metadata": {
  "kernelspec": {
   "display_name": "Python 3 (ipykernel)",
   "language": "python",
   "name": "python3"
  },
  "language_info": {
   "codemirror_mode": {
    "name": "ipython",
    "version": 3
   },
   "file_extension": ".py",
   "mimetype": "text/x-python",
   "name": "python",
   "nbconvert_exporter": "python",
   "pygments_lexer": "ipython3",
   "version": "3.11.7"
  },
  "widgets": {
   "application/vnd.jupyter.widget-state+json": {
    "state": {},
    "version_major": 2,
    "version_minor": 0
   }
  }
 },
 "nbformat": 4,
 "nbformat_minor": 5
}
