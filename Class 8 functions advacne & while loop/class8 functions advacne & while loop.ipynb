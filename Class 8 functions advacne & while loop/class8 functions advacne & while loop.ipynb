{
 "cells": [
  {
   "cell_type": "markdown",
   "metadata": {},
   "source": [
    "## Revision"
   ]
  },
  {
   "cell_type": "code",
   "execution_count": 1,
   "metadata": {},
   "outputs": [],
   "source": [
    "def calc_tax(sales_total, tax_rate=0.22):\n",
    "    print(sales_total * tax_rate)"
   ]
  },
  {
   "cell_type": "code",
   "execution_count": 2,
   "metadata": {},
   "outputs": [
    {
     "name": "stdout",
     "output_type": "stream",
     "text": [
      "110.0\n"
     ]
    }
   ],
   "source": [
    "calc_tax(sales_total=1000, tax_rate=0.11)"
   ]
  },
  {
   "cell_type": "markdown",
   "metadata": {},
   "source": [
    "## returning fnctions"
   ]
  },
  {
   "cell_type": "code",
   "execution_count": 3,
   "metadata": {},
   "outputs": [],
   "source": [
    "def calc_tax(sales_total, tax_rate=0.22):\n",
    "    tax = sales_total * tax_rate\n",
    "    return tax"
   ]
  },
  {
   "cell_type": "code",
   "execution_count": 4,
   "metadata": {},
   "outputs": [
    {
     "data": {
      "text/plain": [
       "110.0"
      ]
     },
     "execution_count": 4,
     "metadata": {},
     "output_type": "execute_result"
    }
   ],
   "source": [
    "calc_tax(sales_total=1000, tax_rate=0.11)"
   ]
  },
  {
   "cell_type": "markdown",
   "metadata": {},
   "source": [
    "### Functions as variables "
   ]
  },
  {
   "cell_type": "code",
   "execution_count": 5,
   "metadata": {},
   "outputs": [],
   "source": [
    "def calc_tax(sales_total, tax_rate=0.22):\n",
    "    tax = sales_total * tax_rate\n",
    "    print(tax) # it is printing NOT returning"
   ]
  },
  {
   "cell_type": "code",
   "execution_count": 6,
   "metadata": {},
   "outputs": [
    {
     "name": "stdout",
     "output_type": "stream",
     "text": [
      "110.0\n",
      "Hello\n"
     ]
    }
   ],
   "source": [
    "tax = calc_tax(sales_total=1000, tax_rate=0.11)\n",
    "print('Hello')"
   ]
  },
  {
   "cell_type": "code",
   "execution_count": 7,
   "metadata": {},
   "outputs": [],
   "source": [
    "tax # no value in tax variable"
   ]
  },
  {
   "cell_type": "code",
   "execution_count": 8,
   "metadata": {},
   "outputs": [],
   "source": [
    "def calc_tax(sales_total, tax_rate=0.22):\n",
    "    tax = sales_total * tax_rate\n",
    "    return tax # it is returning"
   ]
  },
  {
   "cell_type": "code",
   "execution_count": 9,
   "metadata": {},
   "outputs": [],
   "source": [
    "tax = calc_tax(sales_total=1000, tax_rate=0.11)"
   ]
  },
  {
   "cell_type": "code",
   "execution_count": 10,
   "metadata": {},
   "outputs": [
    {
     "data": {
      "text/plain": [
       "110.0"
      ]
     },
     "execution_count": 10,
     "metadata": {},
     "output_type": "execute_result"
    }
   ],
   "source": [
    "tax"
   ]
  },
  {
   "cell_type": "code",
   "execution_count": 11,
   "metadata": {},
   "outputs": [],
   "source": [
    "customers = {\n",
    "0: {'first name': 'Hamza',\n",
    "    'last name': 'Aslam',\n",
    "    'address': 'Painsra',\n",
    "    'city': 'Faisalabad'},\n",
    "1:   {'first name': 'Muhammad',\n",
    "    'last name': 'Saleem',\n",
    "    'address': 'Bahawalnagar',\n",
    "    'city': 'Multan'},\n",
    "2:    {'first name': 'Majid',\n",
    "    'last name': 'Ali',\n",
    "    'address': 'Shahdara',\n",
    "    'city': 'Lahore'}\n",
    "}"
   ]
  },
  {
   "cell_type": "code",
   "execution_count": 12,
   "metadata": {},
   "outputs": [
    {
     "data": {
      "text/plain": [
       "'Bahawalnagar'"
      ]
     },
     "execution_count": 12,
     "metadata": {},
     "output_type": "execute_result"
    }
   ],
   "source": [
    "customers[1]['address']"
   ]
  },
  {
   "cell_type": "code",
   "execution_count": 13,
   "metadata": {},
   "outputs": [],
   "source": [
    "def customers_details( customer_dict, customer, details):\n",
    "    return customer_dict[customer][details]"
   ]
  },
  {
   "cell_type": "code",
   "execution_count": 14,
   "metadata": {},
   "outputs": [
    {
     "name": "stdin",
     "output_type": "stream",
     "text": [
      "Enter customer Id:  3\n",
      "Enter Customer detail:  sami\n"
     ]
    }
   ],
   "source": [
    "customer_id = int(input(\"Enter customer Id: \"))\n",
    "customer_detail = input(\"Enter Customer detail: \")"
   ]
  },
  {
   "cell_type": "code",
   "execution_count": 15,
   "metadata": {},
   "outputs": [
    {
     "ename": "KeyError",
     "evalue": "3",
     "output_type": "error",
     "traceback": [
      "\u001b[1;31m---------------------------------------------------------------------------\u001b[0m",
      "\u001b[1;31mKeyError\u001b[0m                                  Traceback (most recent call last)",
      "Cell \u001b[1;32mIn[15], line 1\u001b[0m\n\u001b[1;32m----> 1\u001b[0m customers_details(customers, customer_id, customer_detail)\n",
      "Cell \u001b[1;32mIn[13], line 2\u001b[0m, in \u001b[0;36mcustomers_details\u001b[1;34m(customer_dict, customer, details)\u001b[0m\n\u001b[0;32m      1\u001b[0m \u001b[38;5;28;01mdef\u001b[39;00m \u001b[38;5;21mcustomers_details\u001b[39m( customer_dict, customer, details):\n\u001b[1;32m----> 2\u001b[0m     \u001b[38;5;28;01mreturn\u001b[39;00m customer_dict[customer][details]\n",
      "\u001b[1;31mKeyError\u001b[0m: 3"
     ]
    }
   ],
   "source": [
    "customers_details(customers, customer_id, customer_detail)"
   ]
  },
  {
   "cell_type": "markdown",
   "metadata": {},
   "source": [
    "## Dealing with unknown arguments using **kwargs"
   ]
  },
  {
   "cell_type": "code",
   "execution_count": 16,
   "metadata": {},
   "outputs": [],
   "source": [
    "def olympic_winner(winner_name, winner_score): # without kwargs\n",
    "    print(f\"Winner name is {winner_name} & its score is {winner_score}\")"
   ]
  },
  {
   "cell_type": "code",
   "execution_count": 17,
   "metadata": {},
   "outputs": [
    {
     "name": "stdout",
     "output_type": "stream",
     "text": [
      "Winner name is Saleem & its score is 9\n"
     ]
    }
   ],
   "source": [
    "olympic_winner(\"Saleem\", 9)"
   ]
  },
  {
   "cell_type": "code",
   "execution_count": 18,
   "metadata": {},
   "outputs": [],
   "source": [
    "def olympic_winner(winner_name, winner_score, **kwargs): #kwargs\n",
    "    print(f\"Winner name is {winner_name} & its score is {winner_score}\")\n",
    "    for key, value in kwargs.items():\n",
    "        print(f\"{key} --> {value}\")"
   ]
  },
  {
   "cell_type": "code",
   "execution_count": 19,
   "metadata": {},
   "outputs": [
    {
     "name": "stdout",
     "output_type": "stream",
     "text": [
      "Winner name is Saleem & its score is 9\n",
      "injerires --> True\n",
      "overtime --> False\n"
     ]
    }
   ],
   "source": [
    "olympic_winner(\"Saleem\", 9, injerires = True, overtime = False)"
   ]
  },
  {
   "cell_type": "markdown",
   "metadata": {},
   "source": [
    "## Dealing with unknown arguments using *args"
   ]
  },
  {
   "cell_type": "code",
   "execution_count": 20,
   "metadata": {},
   "outputs": [],
   "source": [
    "def olympic_winner(winner_name, winner_score, *args): #args\n",
    "    print(f\"Winner name is {winner_name} & its score is {winner_score}\")\n",
    "    print(args) # return tuple\n",
    "    for arg in args:\n",
    "        print(f\"{arg}\")"
   ]
  },
  {
   "cell_type": "code",
   "execution_count": 21,
   "metadata": {},
   "outputs": [
    {
     "name": "stdout",
     "output_type": "stream",
     "text": [
      "Winner name is Saleem & its score is 9\n",
      "(True, False)\n",
      "True\n",
      "False\n"
     ]
    }
   ],
   "source": [
    "olympic_winner(\"Saleem\", 9, True, False)"
   ]
  },
  {
   "cell_type": "markdown",
   "metadata": {},
   "source": [
    "## Local vs. global variables\n",
    "- global: access with in functions too\n",
    "- _NOTE: global varaibel should be defined outside the function boday_\n",
    "- local: should have limited scope i:e., with i  fucntions\n",
    "- _NOTE: only way to get local variable is to give them in \"return\"_"
   ]
  },
  {
   "cell_type": "code",
   "execution_count": 22,
   "metadata": {},
   "outputs": [],
   "source": [
    "global tax_rate\n",
    "tax_rate = 0.02\n",
    "def addition():\n",
    "    a = 5\n",
    "    b = 10\n",
    "    total = a + b\n",
    "    tax = total * tax_rate\n",
    "    return total, tax"
   ]
  },
  {
   "cell_type": "code",
   "execution_count": 23,
   "metadata": {},
   "outputs": [
    {
     "data": {
      "text/plain": [
       "(15, 0.3)"
      ]
     },
     "execution_count": 23,
     "metadata": {},
     "output_type": "execute_result"
    }
   ],
   "source": [
    "addition()"
   ]
  },
  {
   "cell_type": "code",
   "execution_count": 25,
   "metadata": {},
   "outputs": [],
   "source": [
    "# because it is a local variable (function)"
   ]
  },
  {
   "cell_type": "code",
   "execution_count": 26,
   "metadata": {},
   "outputs": [
    {
     "name": "stdout",
     "output_type": "stream",
     "text": [
      "I Love SMIT\n",
      "I Love SMIT\n"
     ]
    }
   ],
   "source": [
    "# eaxmple:II\n",
    "global s\n",
    "s = \"I Love SMIT\"\n",
    "def  function():\n",
    "    return s\n",
    "print(function())\n",
    "print(s)"
   ]
  },
  {
   "cell_type": "code",
   "execution_count": 27,
   "metadata": {},
   "outputs": [
    {
     "name": "stdout",
     "output_type": "stream",
     "text": [
      "I Love SMIT\n"
     ]
    }
   ],
   "source": [
    "# eaxmple:II\n",
    "def  function():\n",
    "    s = \"I Love SMIT\"\n",
    "    return s\n",
    "function()\n",
    "print(s)"
   ]
  },
  {
   "cell_type": "markdown",
   "metadata": {},
   "source": [
    "## Functions within functions"
   ]
  },
  {
   "cell_type": "markdown",
   "metadata": {},
   "source": [
    "1. create a function names `func_total_sales` that take atleast 3 parameters i:e., gulshan, stadium, dha\n",
    "2. calculate the `total_sales` using above functions\n",
    "3. calculate another function names `func_sales_after_tax` is should take one \n",
    "    parameter i:e., `total_sales`\n",
    "4. make sure `func_sales_after_tax` should be called with in  `func_total_sales` and \n",
    "    sales after tax is returned by `func_total_sales`"
   ]
  },
  {
   "cell_type": "code",
   "execution_count": 28,
   "metadata": {},
   "outputs": [
    {
     "data": {
      "text/plain": [
       "110.0"
      ]
     },
     "execution_count": 28,
     "metadata": {},
     "output_type": "execute_result"
    }
   ],
   "source": [
    "def func_sales_after_tax(total_sales):\n",
    "    return total_sales * 0.11\n",
    "\n",
    "def func_total_sales(gulshan, stadium, dha):\n",
    "    total_sales = gulshan + stadium + dha\n",
    "    sales_after_tax = func_sales_after_tax(total_sales)\n",
    "    return sales_after_tax\n",
    "\n",
    "'''\n",
    "gulshan = int(input('Enter total sales of your gulshan branch'))\n",
    "stadium = int(input('Enter total sales of your stadium branch'))\n",
    "dha = int(input('Enter total sales of your dha branch')) \n",
    "'''\n",
    "\n",
    "func_total_sales(250,250,500)"
   ]
  },
  {
   "cell_type": "markdown",
   "metadata": {},
   "source": [
    "## While Loops\n",
    "- while loop condition & set it to True\n",
    "- when condition meets some criteris &  then make that to False"
   ]
  },
  {
   "cell_type": "code",
   "execution_count": 29,
   "metadata": {},
   "outputs": [],
   "source": [
    "clean_countries = ['Pakistan', 'Bangladesh', 'India']"
   ]
  },
  {
   "cell_type": "code",
   "execution_count": 30,
   "metadata": {},
   "outputs": [
    {
     "name": "stdin",
     "output_type": "stream",
     "text": [
      "Enter Country that you want to check:  Pakistan\n"
     ]
    },
    {
     "name": "stdout",
     "output_type": "stream",
     "text": [
      "Validation check for loop: Bangladesh\n",
      "Validation check for loop: India\n",
      "Validation check for loop: Pakistan\n",
      "Pakistan is a clean counties\n"
     ]
    }
   ],
   "source": [
    "clean_countries = ['Bangladesh', 'India', 'Pakistan', 'China']\n",
    "\n",
    "# for loop\n",
    "usr_input = input(\"Enter Country that you want to check: \")\n",
    "for country in clean_countries:\n",
    "    print(f\"Validation check for loop: {country}\")\n",
    "    if usr_input == country:\n",
    "        print(f\"{usr_input} is a clean counties\")\n",
    "        break"
   ]
  },
  {
   "cell_type": "code",
   "execution_count": 31,
   "metadata": {},
   "outputs": [
    {
     "data": {
      "text/plain": [
       "True"
      ]
     },
     "execution_count": 31,
     "metadata": {},
     "output_type": "execute_result"
    }
   ],
   "source": [
    "'Pakistan' == 'Pakistan'"
   ]
  },
  {
   "cell_type": "code",
   "execution_count": 32,
   "metadata": {},
   "outputs": [
    {
     "name": "stdin",
     "output_type": "stream",
     "text": [
      "Enter Country that you want to check:  south\n",
      "Enter Country that you want to check:  india\n",
      "Enter Country that you want to check:  India\n"
     ]
    },
    {
     "name": "stdout",
     "output_type": "stream",
     "text": [
      "India is in clean countries list\n"
     ]
    }
   ],
   "source": [
    "# cell 1\n",
    "clean_countries = ['Bangladesh', 'India', 'Pakistan', 'China']\n",
    "\n",
    "# cell 2\n",
    "while_cond = True\n",
    "while while_cond:\n",
    "    usr_input = input(\"Enter Country that you want to check: \")\n",
    "    if usr_input in clean_countries:\n",
    "        print(f\"{usr_input} is in clean countries list\")\n",
    "        while_cond = False"
   ]
  },
  {
   "cell_type": "code",
   "execution_count": 33,
   "metadata": {},
   "outputs": [
    {
     "name": "stdin",
     "output_type": "stream",
     "text": [
      "Enter Country that you want to check:  south\n",
      "Enter Country that you want to check:  china\n",
      "Enter Country that you want to check:  China\n"
     ]
    },
    {
     "name": "stdout",
     "output_type": "stream",
     "text": [
      "China is in clean countries list\n"
     ]
    },
    {
     "name": "stdin",
     "output_type": "stream",
     "text": [
      "Enter Country that you want to check:  j\n",
      "Enter Country that you want to check:  Pakistan\n"
     ]
    },
    {
     "name": "stdout",
     "output_type": "stream",
     "text": [
      "Pakistan is in clean countries list\n"
     ]
    },
    {
     "name": "stdin",
     "output_type": "stream",
     "text": [
      "Enter Country that you want to check:  q\n"
     ]
    }
   ],
   "source": [
    "# cell 1\n",
    "clean_countries = ['Bangladesh', 'India', 'Pakistan', 'China']\n",
    "\n",
    "# cell 2\n",
    "usr_input = ''\n",
    "while usr_input != 'q':\n",
    "    usr_input = input(\"Enter Country that you want to check: \")\n",
    "    if usr_input in clean_countries:\n",
    "        print(f\"{usr_input} is in clean countries list\")"
   ]
  },
  {
   "cell_type": "code",
   "execution_count": null,
   "metadata": {},
   "outputs": [],
   "source": []
  }
 ],
 "metadata": {
  "kernelspec": {
   "display_name": "Python 3 (ipykernel)",
   "language": "python",
   "name": "python3"
  },
  "language_info": {
   "codemirror_mode": {
    "name": "ipython",
    "version": 3
   },
   "file_extension": ".py",
   "mimetype": "text/x-python",
   "name": "python",
   "nbconvert_exporter": "python",
   "pygments_lexer": "ipython3",
   "version": "3.11.7"
  }
 },
 "nbformat": 4,
 "nbformat_minor": 4
}
