{
 "cells": [
  {
   "cell_type": "markdown",
   "id": "50cb2042-b8ee-40ed-8df0-6e19197b88a0",
   "metadata": {},
   "source": [
    "### MARKDOWN\n",
    "\n",
    "1. By defualt extension of jupyter -> `.ipynb`\n",
    "2. ESC+M (convert cell to markdown)\n",
    "3. ESC+A (create cell above)\n",
    "4. ESC+B (create cell below)\n",
    "5. ESC+DD (Delete cell)\n",
    "6. CTRL+SHIFT+H ( all jupyter commands)\n",
    "7. SHIFT+ENTER (to run cell)"
   ]
  },
  {
   "cell_type": "raw",
   "id": "2fb8481f-c68c-4790-b39b-e58c6dddc987",
   "metadata": {},
   "source": [
    "Raw form by ESC+R"
   ]
  },
  {
   "cell_type": "code",
   "execution_count": 1,
   "id": "65851989-c4c6-4a84-9cda-75381ecc2e6a",
   "metadata": {},
   "outputs": [
    {
     "name": "stdout",
     "output_type": "stream",
     "text": [
      "Hello World\n"
     ]
    }
   ],
   "source": [
    "print(\"Hello World\")"
   ]
  },
  {
   "cell_type": "code",
   "execution_count": 2,
   "id": "ffb560ea-6f2d-4251-aa4f-57c765cfd045",
   "metadata": {},
   "outputs": [
    {
     "data": {
      "text/plain": [
       "14"
      ]
     },
     "execution_count": 2,
     "metadata": {},
     "output_type": "execute_result"
    }
   ],
   "source": [
    "5+9"
   ]
  },
  {
   "cell_type": "code",
   "execution_count": 3,
   "id": "a7879e47-7f01-42d5-b103-a219ce476ccf",
   "metadata": {},
   "outputs": [
    {
     "data": {
      "text/plain": [
       "-1"
      ]
     },
     "execution_count": 3,
     "metadata": {},
     "output_type": "execute_result"
    }
   ],
   "source": [
    "8-9"
   ]
  },
  {
   "cell_type": "code",
   "execution_count": 4,
   "id": "7d79fec1-b2f4-4b37-98b5-42582597081f",
   "metadata": {},
   "outputs": [
    {
     "data": {
      "text/plain": [
       "312"
      ]
     },
     "execution_count": 4,
     "metadata": {},
     "output_type": "execute_result"
    }
   ],
   "source": [
    "4*78"
   ]
  },
  {
   "cell_type": "code",
   "execution_count": 8,
   "id": "d31002c2-3ba6-4958-90a4-74deff580c41",
   "metadata": {},
   "outputs": [
    {
     "name": "stdout",
     "output_type": "stream",
     "text": [
      "\n",
      "Help on NoneType object:\n",
      "\n",
      "class NoneType(object)\n",
      " |  Methods defined here:\n",
      " |  \n",
      " |  __bool__(self, /)\n",
      " |      True if self else False\n",
      " |  \n",
      " |  __repr__(self, /)\n",
      " |      Return repr(self).\n",
      " |  \n",
      " |  ----------------------------------------------------------------------\n",
      " |  Static methods defined here:\n",
      " |  \n",
      " |  __new__(*args, **kwargs) from builtins.type\n",
      " |      Create and return a new object.  See help(type) for accurate signature.\n",
      "\n"
     ]
    }
   ],
   "source": [
    "help(print())"
   ]
  },
  {
   "cell_type": "code",
   "execution_count": null,
   "id": "803da55d-5f69-4665-8a47-59d8f69744d0",
   "metadata": {},
   "outputs": [],
   "source": []
  }
 ],
 "metadata": {
  "kernelspec": {
   "display_name": "Python 3 (ipykernel)",
   "language": "python",
   "name": "python3"
  },
  "language_info": {
   "codemirror_mode": {
    "name": "ipython",
    "version": 3
   },
   "file_extension": ".py",
   "mimetype": "text/x-python",
   "name": "python",
   "nbconvert_exporter": "python",
   "pygments_lexer": "ipython3",
   "version": "3.11.7"
  }
 },
 "nbformat": 4,
 "nbformat_minor": 5
}
