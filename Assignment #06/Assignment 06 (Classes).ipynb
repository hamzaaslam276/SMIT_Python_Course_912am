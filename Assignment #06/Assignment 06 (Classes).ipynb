{
 "cells": [
  {
   "cell_type": "markdown",
   "id": "9a55a5d1-a242-4350-b58c-7e9d54234430",
   "metadata": {},
   "source": [
    "### 1. Write a Python program to create a class representing a Circle. Include methods to calculate its area and perimeter."
   ]
  },
  {
   "cell_type": "code",
   "execution_count": 1,
   "id": "5971c195-7f93-464b-9f2e-b3d611a507fe",
   "metadata": {},
   "outputs": [],
   "source": [
    "class Circle():\n",
    "    def __init__(self, radius, pi = 3.14159):\n",
    "        self.radius = radius\n",
    "        self.pi = pi\n",
    "    def area(self):\n",
    "        area = self.pi * (self.radius ** 2)\n",
    "        print(f\"Radius of circle is: {self.radius}.\\nThe area of circle is: {area}. \")\n",
    "\n",
    "    def perimeter(self):\n",
    "        perimeter = 2 * self.pi * self.radius\n",
    "        print(f\"Radius of circle is: {self.radius}.\\nThe perimeter of circle is: {perimeter}. \")"
   ]
  },
  {
   "cell_type": "code",
   "execution_count": 2,
   "id": "826c3aa5-6309-4a84-ac7b-0db24370a44a",
   "metadata": {},
   "outputs": [
    {
     "name": "stdout",
     "output_type": "stream",
     "text": [
      "7\n",
      "Radius of circle is: 7.\n",
      "The area of circle is: 153.93791. \n"
     ]
    }
   ],
   "source": [
    "circle1 = Circle(7)\n",
    "print(circle1.radius)\n",
    "\n",
    "circle1.area()"
   ]
  },
  {
   "cell_type": "code",
   "execution_count": 3,
   "id": "0e233a77-36a8-454d-8679-024d004344db",
   "metadata": {},
   "outputs": [
    {
     "name": "stdout",
     "output_type": "stream",
     "text": [
      "7\n",
      "Radius of circle is: 7.\n",
      "The perimeter of circle is: 43.98226. \n"
     ]
    }
   ],
   "source": [
    "circle1 = Circle(7)\n",
    "print(circle1.radius)\n",
    "\n",
    "circle1.perimeter()"
   ]
  },
  {
   "cell_type": "markdown",
   "id": "fd3e252b-8eec-478a-a09f-67301c64f54b",
   "metadata": {},
   "source": [
    "### 2. Write a Python program to create a person class. Include attributes like name, country and date of birth. Implement a method to determine the person's age.\n"
   ]
  },
  {
   "cell_type": "code",
   "execution_count": 4,
   "id": "5b7c0c3c-33ea-4321-8a52-59e8c992ff3e",
   "metadata": {},
   "outputs": [],
   "source": [
    "from datetime import datetime\n",
    "\n",
    "class Person():\n",
    "    def __init__(self, name, date_of_birth):\n",
    "        self.name = name\n",
    "        self.date_of_birth = date_of_birth\n",
    "\n",
    "    def determine_age(self):\n",
    "        today = datetime.today()\n",
    "        date_of_birth = datetime.strptime(self.date_of_birth, \"%d-%m-%Y\")\n",
    "        age = today.year - date_of_birth.year - ((today.month, today.day) < (date_of_birth.month, date_of_birth.day))\n",
    "        print(f\"{person.name} is {age} years old.\")"
   ]
  },
  {
   "cell_type": "code",
   "execution_count": 5,
   "id": "96e085f0-90e3-4875-8257-0ad853c398ca",
   "metadata": {},
   "outputs": [
    {
     "name": "stdout",
     "output_type": "stream",
     "text": [
      "Hamza\n",
      "31-08-1995\n"
     ]
    }
   ],
   "source": [
    "person = Person(\"Hamza\", \"31-08-1995\")\n",
    "print(person.name)\n",
    "print(person.date_of_birth)"
   ]
  },
  {
   "cell_type": "code",
   "execution_count": 6,
   "id": "508c67a9-f638-4864-9f8e-f8f1e90f51f8",
   "metadata": {},
   "outputs": [
    {
     "name": "stdout",
     "output_type": "stream",
     "text": [
      "Hamza is 29 years old.\n"
     ]
    }
   ],
   "source": [
    "person.determine_age()"
   ]
  },
  {
   "cell_type": "markdown",
   "id": "acb7cbae-e8da-4185-8d0c-c49e08ae4631",
   "metadata": {},
   "source": [
    "### 3. Write a Python program to create a calculator class. Include methods for basic arithmetic operations."
   ]
  },
  {
   "cell_type": "code",
   "execution_count": 7,
   "id": "362d7bf2-7037-4849-914c-8e5e51bd8cfa",
   "metadata": {},
   "outputs": [],
   "source": [
    "class Calculator():\n",
    "    def __init__(self, num1, num2):\n",
    "        self.num1 = num1\n",
    "        self.num2 = num2\n",
    "    def add(self):\n",
    "        add = self.num1 + self.num2\n",
    "        print(f\"{self.num1} + {self.num2} = {add}\")\n",
    "    def subtract(self):\n",
    "        subtract = self.num1 - self.num2\n",
    "        print(f\"{self.num1} - {self.num2} = {subtract}\")\n",
    "    def multiply(self):\n",
    "        multiply = self.num1 * self.num2\n",
    "        print(f\"{self.num1} * {self.num2} = {multiply}\")\n",
    "    def divide(self):\n",
    "        if self.num2 != 0:\n",
    "            divide = self.num1 / self.num2\n",
    "            print(f\"{self.num1} / {self.num2} = {divide}\")\n",
    "        else:\n",
    "            print(\"Error: Division by zero is not allowed.\")"
   ]
  },
  {
   "cell_type": "code",
   "execution_count": 8,
   "id": "23410fc1-5fb9-47e4-a0b7-54775d214a8f",
   "metadata": {},
   "outputs": [
    {
     "name": "stdout",
     "output_type": "stream",
     "text": [
      "8 + 2 = 10\n",
      "8 - 2 = 6\n",
      "8 * 2 = 16\n",
      "8 / 2 = 4.0\n"
     ]
    }
   ],
   "source": [
    "calu = Calculator(8, 2)\n",
    "calu.add()\n",
    "calu.subtract()\n",
    "calu.multiply()\n",
    "calu.divide()"
   ]
  },
  {
   "cell_type": "code",
   "execution_count": null,
   "id": "e67855bf-dd33-4c4d-bab0-fc4c8a117fcd",
   "metadata": {},
   "outputs": [],
   "source": []
  }
 ],
 "metadata": {
  "kernelspec": {
   "display_name": "Python 3 (ipykernel)",
   "language": "python",
   "name": "python3"
  },
  "language_info": {
   "codemirror_mode": {
    "name": "ipython",
    "version": 3
   },
   "file_extension": ".py",
   "mimetype": "text/x-python",
   "name": "python",
   "nbconvert_exporter": "python",
   "pygments_lexer": "ipython3",
   "version": "3.11.7"
  },
  "widgets": {
   "application/vnd.jupyter.widget-state+json": {
    "state": {},
    "version_major": 2,
    "version_minor": 0
   }
  }
 },
 "nbformat": 4,
 "nbformat_minor": 5
}
